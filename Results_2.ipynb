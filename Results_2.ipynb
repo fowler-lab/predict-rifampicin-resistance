{
 "cells": [
  {
   "cell_type": "code",
   "execution_count": 437,
   "metadata": {},
   "outputs": [
    {
     "name": "stdout",
     "output_type": "stream",
     "text": [
      "The autoreload extension is already loaded. To reload it, use:\n",
      "  %reload_ext autoreload\n"
     ]
    }
   ],
   "source": [
    "\n",
    "%load_ext autoreload\n",
    "%autoreload 2\n",
    "\n",
    "import sys\n",
    "import os\n",
    "import json\n",
    "import pandas as pd\n",
    "import MDAnalysis as mda\n",
    "from utils import utils\n",
    "import matplotlib.pyplot as plt\n",
    "import numpy as np\n",
    "import seaborn as sns\n",
    "import sbmlcore\n",
    "import random\n",
    "from sklearn.utils import resample\n",
    "from sklearn.tree import  plot_tree\n",
    "from sklearn.metrics import roc_auc_score, confusion_matrix\n",
    "\n",
    "\n",
    "import gumpy\n",
    "\n",
    "from scipy.stats import sem\n",
    "\n",
    "\n",
    "from scipy.stats import ttest_ind\n",
    "\n",
    "from PIL import Image\n",
    "\n",
    "sys.path.append(os.path.abspath('ml-models'))\n",
    "from mlmodels.Models import Models\n",
    "\n",
    "from sklearn.metrics import confusion_matrix\n",
    "\n",
    "plt.rcParams['font.family'] = 'Helvetica'  \n",
    "plt.rcParams['font.size'] = 7 \n",
    "plt.rcParams['figure.dpi']=100\n",
    "\n"
   ]
  },
  {
   "cell_type": "code",
   "execution_count": 380,
   "metadata": {},
   "outputs": [],
   "source": [
    "#defin our random seeds here so all models use the same training\\test splits\n",
    "random_seeds = random.sample(range(1000), 50)\n"
   ]
  },
  {
   "cell_type": "markdown",
   "metadata": {},
   "source": [
    "# Dataset import"
   ]
  },
  {
   "cell_type": "markdown",
   "metadata": {},
   "source": [
    "Data tables were generated in `methods.ipynb`."
   ]
  },
  {
   "cell_type": "code",
   "execution_count": 381,
   "metadata": {},
   "outputs": [],
   "source": [
    "#this contains all observed solos with phenotypes - helpful for reference, but not used for ML training/validation\n",
    "all_solos = pd.read_csv('data/tables/generated/rpoB_solos.csv', index_col=0)"
   ]
  },
  {
   "cell_type": "code",
   "execution_count": 382,
   "metadata": {},
   "outputs": [
    {
     "data": {
      "text/html": [
       "<div>\n",
       "<style scoped>\n",
       "    .dataframe tbody tr th:only-of-type {\n",
       "        vertical-align: middle;\n",
       "    }\n",
       "\n",
       "    .dataframe tbody tr th {\n",
       "        vertical-align: top;\n",
       "    }\n",
       "\n",
       "    .dataframe thead th {\n",
       "        text-align: right;\n",
       "    }\n",
       "</style>\n",
       "<table border=\"1\" class=\"dataframe\">\n",
       "  <thead>\n",
       "    <tr style=\"text-align: right;\">\n",
       "      <th></th>\n",
       "      <th>segid</th>\n",
       "      <th>resid</th>\n",
       "      <th>mutation</th>\n",
       "      <th>phenotype</th>\n",
       "      <th>d_volume</th>\n",
       "      <th>d_hydropathy_KD</th>\n",
       "      <th>d_MW</th>\n",
       "      <th>d_pi</th>\n",
       "      <th>d_rogov</th>\n",
       "      <th>Rif_distance</th>\n",
       "      <th>...</th>\n",
       "      <th>phi</th>\n",
       "      <th>psi</th>\n",
       "      <th>n_hbond_acceptors</th>\n",
       "      <th>n_hbond_donors</th>\n",
       "      <th>SASA</th>\n",
       "      <th>snap2_score</th>\n",
       "      <th>deep_ddG</th>\n",
       "      <th>rasp_score</th>\n",
       "      <th>temp_factor</th>\n",
       "      <th>secondary_structure</th>\n",
       "    </tr>\n",
       "  </thead>\n",
       "  <tbody>\n",
       "    <tr>\n",
       "      <th>2</th>\n",
       "      <td>C</td>\n",
       "      <td>639</td>\n",
       "      <td>E639D</td>\n",
       "      <td>0</td>\n",
       "      <td>-27.3</td>\n",
       "      <td>0.0</td>\n",
       "      <td>-14.0</td>\n",
       "      <td>-0.45</td>\n",
       "      <td>0.109</td>\n",
       "      <td>34.015193</td>\n",
       "      <td>...</td>\n",
       "      <td>-72.58</td>\n",
       "      <td>-54.68</td>\n",
       "      <td>0.0</td>\n",
       "      <td>0.0</td>\n",
       "      <td>107.910414</td>\n",
       "      <td>50</td>\n",
       "      <td>-0.152</td>\n",
       "      <td>0.254674</td>\n",
       "      <td>41.400002</td>\n",
       "      <td>0</td>\n",
       "    </tr>\n",
       "    <tr>\n",
       "      <th>3</th>\n",
       "      <td>C</td>\n",
       "      <td>113</td>\n",
       "      <td>V113I</td>\n",
       "      <td>0</td>\n",
       "      <td>26.7</td>\n",
       "      <td>0.3</td>\n",
       "      <td>14.1</td>\n",
       "      <td>0.06</td>\n",
       "      <td>0.494</td>\n",
       "      <td>24.626817</td>\n",
       "      <td>...</td>\n",
       "      <td>-55.57</td>\n",
       "      <td>-55.02</td>\n",
       "      <td>2.0</td>\n",
       "      <td>0.0</td>\n",
       "      <td>46.996241</td>\n",
       "      <td>-95</td>\n",
       "      <td>0.471</td>\n",
       "      <td>0.222572</td>\n",
       "      <td>36.919998</td>\n",
       "      <td>1</td>\n",
       "    </tr>\n",
       "    <tr>\n",
       "      <th>4</th>\n",
       "      <td>C</td>\n",
       "      <td>642</td>\n",
       "      <td>G642S</td>\n",
       "      <td>0</td>\n",
       "      <td>28.9</td>\n",
       "      <td>-0.4</td>\n",
       "      <td>30.0</td>\n",
       "      <td>-0.29</td>\n",
       "      <td>0.120</td>\n",
       "      <td>42.448172</td>\n",
       "      <td>...</td>\n",
       "      <td>169.90</td>\n",
       "      <td>-149.75</td>\n",
       "      <td>1.0</td>\n",
       "      <td>1.0</td>\n",
       "      <td>0.226439</td>\n",
       "      <td>48</td>\n",
       "      <td>-2.495</td>\n",
       "      <td>0.548394</td>\n",
       "      <td>32.490002</td>\n",
       "      <td>2</td>\n",
       "    </tr>\n",
       "    <tr>\n",
       "      <th>5</th>\n",
       "      <td>C</td>\n",
       "      <td>751</td>\n",
       "      <td>I751V</td>\n",
       "      <td>0</td>\n",
       "      <td>-26.7</td>\n",
       "      <td>-0.3</td>\n",
       "      <td>-14.1</td>\n",
       "      <td>-0.06</td>\n",
       "      <td>0.494</td>\n",
       "      <td>27.986912</td>\n",
       "      <td>...</td>\n",
       "      <td>-161.65</td>\n",
       "      <td>154.98</td>\n",
       "      <td>1.0</td>\n",
       "      <td>1.0</td>\n",
       "      <td>23.895392</td>\n",
       "      <td>-91</td>\n",
       "      <td>-0.242</td>\n",
       "      <td>0.287591</td>\n",
       "      <td>19.900000</td>\n",
       "      <td>2</td>\n",
       "    </tr>\n",
       "    <tr>\n",
       "      <th>6</th>\n",
       "      <td>C</td>\n",
       "      <td>944</td>\n",
       "      <td>K944N</td>\n",
       "      <td>0</td>\n",
       "      <td>-54.5</td>\n",
       "      <td>0.4</td>\n",
       "      <td>-14.1</td>\n",
       "      <td>-4.33</td>\n",
       "      <td>0.197</td>\n",
       "      <td>59.941562</td>\n",
       "      <td>...</td>\n",
       "      <td>60.77</td>\n",
       "      <td>28.12</td>\n",
       "      <td>0.0</td>\n",
       "      <td>0.0</td>\n",
       "      <td>208.845293</td>\n",
       "      <td>-73</td>\n",
       "      <td>0.025</td>\n",
       "      <td>0.215516</td>\n",
       "      <td>86.489998</td>\n",
       "      <td>0</td>\n",
       "    </tr>\n",
       "    <tr>\n",
       "      <th>...</th>\n",
       "      <td>...</td>\n",
       "      <td>...</td>\n",
       "      <td>...</td>\n",
       "      <td>...</td>\n",
       "      <td>...</td>\n",
       "      <td>...</td>\n",
       "      <td>...</td>\n",
       "      <td>...</td>\n",
       "      <td>...</td>\n",
       "      <td>...</td>\n",
       "      <td>...</td>\n",
       "      <td>...</td>\n",
       "      <td>...</td>\n",
       "      <td>...</td>\n",
       "      <td>...</td>\n",
       "      <td>...</td>\n",
       "      <td>...</td>\n",
       "      <td>...</td>\n",
       "      <td>...</td>\n",
       "      <td>...</td>\n",
       "      <td>...</td>\n",
       "    </tr>\n",
       "    <tr>\n",
       "      <th>262</th>\n",
       "      <td>C</td>\n",
       "      <td>445</td>\n",
       "      <td>H445F</td>\n",
       "      <td>1</td>\n",
       "      <td>36.7</td>\n",
       "      <td>6.0</td>\n",
       "      <td>10.0</td>\n",
       "      <td>-2.11</td>\n",
       "      <td>-0.016</td>\n",
       "      <td>9.683248</td>\n",
       "      <td>...</td>\n",
       "      <td>-66.73</td>\n",
       "      <td>-38.07</td>\n",
       "      <td>1.0</td>\n",
       "      <td>2.0</td>\n",
       "      <td>6.609119</td>\n",
       "      <td>92</td>\n",
       "      <td>-0.684</td>\n",
       "      <td>0.201490</td>\n",
       "      <td>16.459999</td>\n",
       "      <td>1</td>\n",
       "    </tr>\n",
       "    <tr>\n",
       "      <th>263</th>\n",
       "      <td>C</td>\n",
       "      <td>434</td>\n",
       "      <td>M434I</td>\n",
       "      <td>1</td>\n",
       "      <td>3.8</td>\n",
       "      <td>2.6</td>\n",
       "      <td>-18.0</td>\n",
       "      <td>0.28</td>\n",
       "      <td>-0.452</td>\n",
       "      <td>9.843524</td>\n",
       "      <td>...</td>\n",
       "      <td>-62.15</td>\n",
       "      <td>126.41</td>\n",
       "      <td>0.0</td>\n",
       "      <td>1.0</td>\n",
       "      <td>7.242104</td>\n",
       "      <td>93</td>\n",
       "      <td>-1.393</td>\n",
       "      <td>0.290369</td>\n",
       "      <td>17.299999</td>\n",
       "      <td>3</td>\n",
       "    </tr>\n",
       "    <tr>\n",
       "      <th>264</th>\n",
       "      <td>C</td>\n",
       "      <td>262</td>\n",
       "      <td>V262A</td>\n",
       "      <td>1</td>\n",
       "      <td>-51.4</td>\n",
       "      <td>-2.4</td>\n",
       "      <td>-28.0</td>\n",
       "      <td>0.04</td>\n",
       "      <td>0.232</td>\n",
       "      <td>56.595298</td>\n",
       "      <td>...</td>\n",
       "      <td>-126.69</td>\n",
       "      <td>153.98</td>\n",
       "      <td>0.0</td>\n",
       "      <td>0.0</td>\n",
       "      <td>95.032454</td>\n",
       "      <td>-82</td>\n",
       "      <td>-0.214</td>\n",
       "      <td>0.275822</td>\n",
       "      <td>133.350006</td>\n",
       "      <td>3</td>\n",
       "    </tr>\n",
       "    <tr>\n",
       "      <th>265</th>\n",
       "      <td>C</td>\n",
       "      <td>582</td>\n",
       "      <td>S582A</td>\n",
       "      <td>1</td>\n",
       "      <td>-0.4</td>\n",
       "      <td>2.6</td>\n",
       "      <td>-16.0</td>\n",
       "      <td>0.32</td>\n",
       "      <td>0.249</td>\n",
       "      <td>18.638826</td>\n",
       "      <td>...</td>\n",
       "      <td>-95.24</td>\n",
       "      <td>-170.26</td>\n",
       "      <td>1.0</td>\n",
       "      <td>0.0</td>\n",
       "      <td>0.000000</td>\n",
       "      <td>29</td>\n",
       "      <td>-1.548</td>\n",
       "      <td>0.237018</td>\n",
       "      <td>18.350000</td>\n",
       "      <td>0</td>\n",
       "    </tr>\n",
       "    <tr>\n",
       "      <th>266</th>\n",
       "      <td>C</td>\n",
       "      <td>378</td>\n",
       "      <td>L378R</td>\n",
       "      <td>1</td>\n",
       "      <td>6.7</td>\n",
       "      <td>-8.3</td>\n",
       "      <td>43.0</td>\n",
       "      <td>4.78</td>\n",
       "      <td>-0.090</td>\n",
       "      <td>17.636419</td>\n",
       "      <td>...</td>\n",
       "      <td>-59.74</td>\n",
       "      <td>-39.22</td>\n",
       "      <td>0.0</td>\n",
       "      <td>1.0</td>\n",
       "      <td>9.222732</td>\n",
       "      <td>60</td>\n",
       "      <td>-5.106</td>\n",
       "      <td>0.491561</td>\n",
       "      <td>21.850000</td>\n",
       "      <td>1</td>\n",
       "    </tr>\n",
       "  </tbody>\n",
       "</table>\n",
       "<p>265 rows × 26 columns</p>\n",
       "</div>"
      ],
      "text/plain": [
       "    segid  resid mutation  phenotype  d_volume  d_hydropathy_KD  d_MW  d_pi  \\\n",
       "2       C    639    E639D          0     -27.3              0.0 -14.0 -0.45   \n",
       "3       C    113    V113I          0      26.7              0.3  14.1  0.06   \n",
       "4       C    642    G642S          0      28.9             -0.4  30.0 -0.29   \n",
       "5       C    751    I751V          0     -26.7             -0.3 -14.1 -0.06   \n",
       "6       C    944    K944N          0     -54.5              0.4 -14.1 -4.33   \n",
       "..    ...    ...      ...        ...       ...              ...   ...   ...   \n",
       "262     C    445    H445F          1      36.7              6.0  10.0 -2.11   \n",
       "263     C    434    M434I          1       3.8              2.6 -18.0  0.28   \n",
       "264     C    262    V262A          1     -51.4             -2.4 -28.0  0.04   \n",
       "265     C    582    S582A          1      -0.4              2.6 -16.0  0.32   \n",
       "266     C    378    L378R          1       6.7             -8.3  43.0  4.78   \n",
       "\n",
       "     d_rogov  Rif_distance  ...     phi     psi  n_hbond_acceptors  \\\n",
       "2      0.109     34.015193  ...  -72.58  -54.68                0.0   \n",
       "3      0.494     24.626817  ...  -55.57  -55.02                2.0   \n",
       "4      0.120     42.448172  ...  169.90 -149.75                1.0   \n",
       "5      0.494     27.986912  ... -161.65  154.98                1.0   \n",
       "6      0.197     59.941562  ...   60.77   28.12                0.0   \n",
       "..       ...           ...  ...     ...     ...                ...   \n",
       "262   -0.016      9.683248  ...  -66.73  -38.07                1.0   \n",
       "263   -0.452      9.843524  ...  -62.15  126.41                0.0   \n",
       "264    0.232     56.595298  ... -126.69  153.98                0.0   \n",
       "265    0.249     18.638826  ...  -95.24 -170.26                1.0   \n",
       "266   -0.090     17.636419  ...  -59.74  -39.22                0.0   \n",
       "\n",
       "     n_hbond_donors        SASA  snap2_score  deep_ddG  rasp_score  \\\n",
       "2               0.0  107.910414           50    -0.152    0.254674   \n",
       "3               0.0   46.996241          -95     0.471    0.222572   \n",
       "4               1.0    0.226439           48    -2.495    0.548394   \n",
       "5               1.0   23.895392          -91    -0.242    0.287591   \n",
       "6               0.0  208.845293          -73     0.025    0.215516   \n",
       "..              ...         ...          ...       ...         ...   \n",
       "262             2.0    6.609119           92    -0.684    0.201490   \n",
       "263             1.0    7.242104           93    -1.393    0.290369   \n",
       "264             0.0   95.032454          -82    -0.214    0.275822   \n",
       "265             0.0    0.000000           29    -1.548    0.237018   \n",
       "266             1.0    9.222732           60    -5.106    0.491561   \n",
       "\n",
       "     temp_factor  secondary_structure  \n",
       "2      41.400002                    0  \n",
       "3      36.919998                    1  \n",
       "4      32.490002                    2  \n",
       "5      19.900000                    2  \n",
       "6      86.489998                    0  \n",
       "..           ...                  ...  \n",
       "262    16.459999                    1  \n",
       "263    17.299999                    3  \n",
       "264   133.350006                    3  \n",
       "265    18.350000                    0  \n",
       "266    21.850000                    1  \n",
       "\n",
       "[265 rows x 26 columns]"
      ]
     },
     "execution_count": 382,
     "metadata": {},
     "output_type": "execute_result"
    }
   ],
   "source": [
    "#this consitutes the ML training and validation data\n",
    "data = pd.read_csv('data/tables/generated/features_dataset.csv', index_col=0)\n",
    "#split into static features and those extracted from md \n",
    "dynamic_features = data[[col for col in data.columns if 'min' in col or 'mean' in col]]\n",
    "data = data.drop(columns=[col for col in data.columns if 'min' in col or 'mean' in col])\n",
    "data"
   ]
  },
  {
   "cell_type": "markdown",
   "metadata": {},
   "source": [
    "# RAVs are limited in number"
   ]
  },
  {
   "cell_type": "markdown",
   "metadata": {},
   "source": [
    "Our dataset is very unbalanced, with the vast majority of mutations observed in susceptible samples only:\n"
   ]
  },
  {
   "cell_type": "code",
   "execution_count": 383,
   "metadata": {},
   "outputs": [
    {
     "name": "stdout",
     "output_type": "stream",
     "text": [
      "number of resistant and susceptible mutations: phenotype\n",
      "0    219\n",
      "1     46\n",
      "Name: count, dtype: int64\n"
     ]
    }
   ],
   "source": [
    "print ('number of resistant and susceptible mutations:', data.phenotype.value_counts())"
   ]
  },
  {
   "cell_type": "markdown",
   "metadata": {},
   "source": [
    "This will cause problems when both training and validating the model.\n",
    "\n",
    "Firstly, susceptibility will be overrepresented, potentially requiring us to upsample the minority class.\n",
    "\n",
    "Additionally, the model will become biased toward predicting susceptibility, leading to higher variance in predictions for resistant variants. The model may also overfit to the few resistant examples it sees.\n",
    "\n",
    "It will be challenging to calibrate parameters for the model, as different data splits will result in varying predicted probability distributions.\n",
    "\n",
    "Finally, with only about eight resistant variants in the validation set, any mutations incorrectly classified as resistant, or any phenotypes inaccurately predicted by the model, will significantly impact model performance, making it difficult to accurately evaluate the model."
   ]
  },
  {
   "cell_type": "markdown",
   "metadata": {},
   "source": [
    "Due to the variability in learning depending on the composition of each specific training/test split, we will use repeated Monte Carlo cross-validation (basically just lots of random train:test splits) instead of training a single model and validating on a single validation set. This approach will provide measures of error and variability in our performance evaluations, resulting in more accurate and honest reporting."
   ]
  },
  {
   "cell_type": "markdown",
   "metadata": {},
   "source": [
    "# RAVs are localised around the rif binding site - RRDR"
   ]
  },
  {
   "cell_type": "markdown",
   "metadata": {},
   "source": [
    "#### Inside the RRDR"
   ]
  },
  {
   "cell_type": "code",
   "execution_count": 384,
   "metadata": {},
   "outputs": [
    {
     "name": "stdout",
     "output_type": "stream",
     "text": [
      "number of resistant mutations in the RRDR: 36\n",
      "number of susceptible mutations in the RRDR: 13\n"
     ]
    }
   ],
   "source": [
    "print ('number of resistant mutations in the RRDR:', len(data[(data.resid>=426)&(data.resid<=452)&(data.phenotype==1)]))\n",
    "print ('number of susceptible mutations in the RRDR:', len(data[(data.resid>=426)&(data.resid<=452)&(data.phenotype==0)]))"
   ]
  },
  {
   "cell_type": "markdown",
   "metadata": {},
   "source": [
    "### Outside the RRDR"
   ]
  },
  {
   "cell_type": "code",
   "execution_count": 385,
   "metadata": {},
   "outputs": [
    {
     "name": "stdout",
     "output_type": "stream",
     "text": [
      "Number of resistant mutations outside the RRDR: 10\n",
      "Number of susceptible mutations outside the RRDR: 206\n"
     ]
    }
   ],
   "source": [
    "print('Number of resistant mutations outside the RRDR:', len(data[((data.resid < 426) | (data.resid > 452)) & (data.phenotype == 1)]))\n",
    "print('Number of susceptible mutations outside the RRDR:', len(data[((data.resid < 426) | (data.resid > 452)) & (data.phenotype == 0)]))"
   ]
  },
  {
   "cell_type": "markdown",
   "metadata": {},
   "source": [
    "### Map onto RpoB structure "
   ]
  },
  {
   "cell_type": "code",
   "execution_count": 386,
   "metadata": {},
   "outputs": [
    {
     "name": "stderr",
     "output_type": "stream",
     "text": [
      "/Users/dylanadlard/miniforge3/envs/rif_manuscript/lib/python3.12/site-packages/MDAnalysis/coordinates/PDB.py:1153: UserWarning: Found no information for attr: 'formalcharges' Using default value of '0'\n",
      "  warnings.warn(\"Found no information for attr: '{}'\"\n",
      "/Users/dylanadlard/miniforge3/envs/rif_manuscript/lib/python3.12/site-packages/MDAnalysis/coordinates/PDB.py:1153: UserWarning: Found no information for attr: 'formalcharges' Using default value of '0'\n",
      "  warnings.warn(\"Found no information for attr: '{}'\"\n"
     ]
    }
   ],
   "source": [
    "all_solos.rename(columns={'MUTATION':'mutation'}, inplace=True)\n",
    "utils.map_mut2pdb(pd.merge(data, all_solos, how='left', on=['mutation', 'segid']), './data/pdb/5uh6.pdb', './data/pdb/RpoB_mutations.pdb', phenotypes=True)"
   ]
  },
  {
   "cell_type": "markdown",
   "metadata": {},
   "source": [
    "------------------------\n",
    "\n",
    "Placeholder for figure 1\n",
    "\n",
    "------------------------"
   ]
  },
  {
   "cell_type": "markdown",
   "metadata": {},
   "source": [
    "The majority of resistance-associated variants are clustered within 12 Ångströms of rifampicin in the crystal structure:"
   ]
  },
  {
   "cell_type": "code",
   "execution_count": 387,
   "metadata": {},
   "outputs": [
    {
     "data": {
      "image/png": "[encoded data removed]",
      "text/plain": [
       "<Figure size 1200x500 with 1 Axes>"
      ]
     },
     "metadata": {},
     "output_type": "display_data"
    }
   ],
   "source": [
    "utils.plot_distance_vs_proportion(all_solos, data, 'Rif_distance' )"
   ]
  },
  {
   "cell_type": "markdown",
   "metadata": {},
   "source": [
    "The radii of the markers represent the degree of confidence, with larger radii indicating more observed samples.\n",
    "\n",
    "There are a few very low-frequency mutations located farther from this site that are apparently resistant. However, these are likely false positives. If the model prioritizes distance as a feature, these mutations may generate false negatives."
   ]
  },
  {
   "cell_type": "markdown",
   "metadata": {},
   "source": [
    "# Some features are more predictive than others"
   ]
  },
  {
   "cell_type": "markdown",
   "metadata": {},
   "source": [
    "To get an idea of how predictive each feature is, we can train a simple single-feature logistic regression model and measure ROC AUC, recall and specificity. Because the split of the data into training/valdiation sets is non-trivial, we will train and evalulate a bunch of models and plot means with confidence limits (50 repeats).\n",
    "\n",
    "We will also optimise for recall using scikit learns native parameter optimisation grid search, and use the default 0.5 R/S decision threshold for output probabilities."
   ]
  },
  {
   "cell_type": "code",
   "execution_count": 388,
   "metadata": {},
   "outputs": [],
   "source": [
    "outputs = {}\n",
    "feature_list = data.columns[4:]\n",
    "single_feat_results = {feat: [] for feat in feature_list}\n",
    "\n",
    "# Run the model for each feature and each seed\n",
    "for seed in random_seeds:\n",
    "    for feat in feature_list:\n",
    "        output = Models({feat: data[[feat, 'phenotype']]}, \n",
    "                        \"LR\", \"recall\", random_seed=seed, test_fraction=0.20, \n",
    "                        verbose=False, output_plots=False).returning_output(output_plots=False)\n",
    "        output[\"seed\"] = seed\n",
    "        output[\"feature\"] = feat\n",
    "        single_feat_results[feat].append(output)\n"
   ]
  },
  {
   "cell_type": "code",
   "execution_count": 438,
   "metadata": {},
   "outputs": [
    {
     "data": {
      "image/png": "[encoded data removed]",
      "text/plain": [
       "<Figure size 1200x600 with 1 Axes>"
      ]
     },
     "metadata": {},
     "output_type": "display_data"
    }
   ],
   "source": [
    "feature_list = data.columns[4:]\n",
    "utils.plot_metrics_with_ci(single_feat_results, feature_list, ['Sensitivity', 'Specificity', 'ROC_AUC'], sort_by='ROC_AUC', figsize=(12, 6))"
   ]
  },
  {
   "cell_type": "markdown",
   "metadata": {},
   "source": [
    "Although features have varying levels of predictive power according to the ROC AUC metric, the reality is using the default post-hoc deicision threshold of 0.5 (to allow comparison across features) demonstrates zero practical predictive power for most features, as most sensitivities are zero.\n",
    "\n",
    "Distance from RNA, snap2 score, and distance from rifampicin are the only features with any real ability to predict positive (R) test cases without applying a post hoc shifted breakpoint.\n",
    "\n",
    "This is perhaps not entirely surprising given the clusering of RAVS around the RRDR, and the fact SNAP2 uses a neural net trained on evolutional infromation sand strucutral features (like solvent accessibility) to predict changes to secondary structure on mutation. \n",
    "\n",
    "Distance to rifampicin has the highest ROC AUC score - ~95% suggests discriminitive power is robust across the threshold range.\n",
    "\n",
    "If we were to shift the deicsion threshold for lower ROC AUC features to boost recall, it would likely come the cost of false positives."
   ]
  },
  {
   "cell_type": "markdown",
   "metadata": {},
   "source": [
    "# Machine learning models trained on a few discrimatory features are predictive"
   ]
  },
  {
   "cell_type": "markdown",
   "metadata": {},
   "source": [
    "As most features have little discriminatory power, we can probably just remove them with little impact on performance - we can test this via backwards elimination of features in ascending order of ROC_AUC score.\n",
    "\n",
    " As before, using an indepenent validation set producus large error bars as there are so few resistant mutations in the set - use Monte Carlo cross validation with 50 random splits as before."
   ]
  },
  {
   "cell_type": "code",
   "execution_count": 390,
   "metadata": {},
   "outputs": [],
   "source": [
    "roc_auc = []\n",
    "for feat in single_feat_results.keys():\n",
    "    key_dict = dict(single_feat_results[feat][0])\n",
    "    roc_auc.append(key_dict[\"ROC_AUC\"])\n",
    "\n",
    "sorted_features = sorted(zip(feature_list, roc_auc), key=lambda x: x[1], reverse=False)\n",
    "\n",
    "sorted_feature_list, sorted_roc_auc = zip(*sorted_features)"
   ]
  },
  {
   "cell_type": "code",
   "execution_count": 391,
   "metadata": {},
   "outputs": [
    {
     "name": "stderr",
     "output_type": "stream",
     "text": [
      "/Users/dylanadlard/miniforge3/envs/rif_manuscript/lib/python3.12/site-packages/sklearn/linear_model/_logistic.py:460: ConvergenceWarning: lbfgs failed to converge (status=1):\n",
      "STOP: TOTAL NO. of f AND g EVALUATIONS EXCEEDS LIMIT.\n",
      "\n",
      "Increase the number of iterations (max_iter) or scale the data as shown in:\n",
      "    https://scikit-learn.org/stable/modules/preprocessing.html\n",
      "Please also refer to the documentation for alternative solver options:\n",
      "    https://scikit-learn.org/stable/modules/linear_model.html#logistic-regression\n",
      "  n_iter_i = _check_optimize_result(\n",
      "/Users/dylanadlard/miniforge3/envs/rif_manuscript/lib/python3.12/site-packages/sklearn/linear_model/_logistic.py:460: ConvergenceWarning: lbfgs failed to converge (status=1):\n",
      "STOP: TOTAL NO. of f AND g EVALUATIONS EXCEEDS LIMIT.\n",
      "\n",
      "Increase the number of iterations (max_iter) or scale the data as shown in:\n",
      "    https://scikit-learn.org/stable/modules/preprocessing.html\n",
      "Please also refer to the documentation for alternative solver options:\n",
      "    https://scikit-learn.org/stable/modules/linear_model.html#logistic-regression\n",
      "  n_iter_i = _check_optimize_result(\n",
      "/Users/dylanadlard/miniforge3/envs/rif_manuscript/lib/python3.12/site-packages/sklearn/linear_model/_logistic.py:460: ConvergenceWarning: lbfgs failed to converge (status=1):\n",
      "STOP: TOTAL NO. of f AND g EVALUATIONS EXCEEDS LIMIT.\n",
      "\n",
      "Increase the number of iterations (max_iter) or scale the data as shown in:\n",
      "    https://scikit-learn.org/stable/modules/preprocessing.html\n",
      "Please also refer to the documentation for alternative solver options:\n",
      "    https://scikit-learn.org/stable/modules/linear_model.html#logistic-regression\n",
      "  n_iter_i = _check_optimize_result(\n",
      "/Users/dylanadlard/miniforge3/envs/rif_manuscript/lib/python3.12/site-packages/sklearn/linear_model/_logistic.py:460: ConvergenceWarning: lbfgs failed to converge (status=1):\n",
      "STOP: TOTAL NO. of f AND g EVALUATIONS EXCEEDS LIMIT.\n",
      "\n",
      "Increase the number of iterations (max_iter) or scale the data as shown in:\n",
      "    https://scikit-learn.org/stable/modules/preprocessing.html\n",
      "Please also refer to the documentation for alternative solver options:\n",
      "    https://scikit-learn.org/stable/modules/linear_model.html#logistic-regression\n",
      "  n_iter_i = _check_optimize_result(\n",
      "/Users/dylanadlard/miniforge3/envs/rif_manuscript/lib/python3.12/site-packages/sklearn/linear_model/_logistic.py:460: ConvergenceWarning: lbfgs failed to converge (status=1):\n",
      "STOP: TOTAL NO. of f AND g EVALUATIONS EXCEEDS LIMIT.\n",
      "\n",
      "Increase the number of iterations (max_iter) or scale the data as shown in:\n",
      "    https://scikit-learn.org/stable/modules/preprocessing.html\n",
      "Please also refer to the documentation for alternative solver options:\n",
      "    https://scikit-learn.org/stable/modules/linear_model.html#logistic-regression\n",
      "  n_iter_i = _check_optimize_result(\n",
      "/Users/dylanadlard/miniforge3/envs/rif_manuscript/lib/python3.12/site-packages/sklearn/linear_model/_logistic.py:460: ConvergenceWarning: lbfgs failed to converge (status=1):\n",
      "STOP: TOTAL NO. of f AND g EVALUATIONS EXCEEDS LIMIT.\n",
      "\n",
      "Increase the number of iterations (max_iter) or scale the data as shown in:\n",
      "    https://scikit-learn.org/stable/modules/preprocessing.html\n",
      "Please also refer to the documentation for alternative solver options:\n",
      "    https://scikit-learn.org/stable/modules/linear_model.html#logistic-regression\n",
      "  n_iter_i = _check_optimize_result(\n",
      "/Users/dylanadlard/miniforge3/envs/rif_manuscript/lib/python3.12/site-packages/sklearn/linear_model/_logistic.py:460: ConvergenceWarning: lbfgs failed to converge (status=1):\n",
      "STOP: TOTAL NO. of f AND g EVALUATIONS EXCEEDS LIMIT.\n",
      "\n",
      "Increase the number of iterations (max_iter) or scale the data as shown in:\n",
      "    https://scikit-learn.org/stable/modules/preprocessing.html\n",
      "Please also refer to the documentation for alternative solver options:\n",
      "    https://scikit-learn.org/stable/modules/linear_model.html#logistic-regression\n",
      "  n_iter_i = _check_optimize_result(\n",
      "/Users/dylanadlard/miniforge3/envs/rif_manuscript/lib/python3.12/site-packages/sklearn/linear_model/_logistic.py:460: ConvergenceWarning: lbfgs failed to converge (status=1):\n",
      "STOP: TOTAL NO. of f AND g EVALUATIONS EXCEEDS LIMIT.\n",
      "\n",
      "Increase the number of iterations (max_iter) or scale the data as shown in:\n",
      "    https://scikit-learn.org/stable/modules/preprocessing.html\n",
      "Please also refer to the documentation for alternative solver options:\n",
      "    https://scikit-learn.org/stable/modules/linear_model.html#logistic-regression\n",
      "  n_iter_i = _check_optimize_result(\n",
      "/Users/dylanadlard/miniforge3/envs/rif_manuscript/lib/python3.12/site-packages/sklearn/linear_model/_logistic.py:460: ConvergenceWarning: lbfgs failed to converge (status=1):\n",
      "STOP: TOTAL NO. of f AND g EVALUATIONS EXCEEDS LIMIT.\n",
      "\n",
      "Increase the number of iterations (max_iter) or scale the data as shown in:\n",
      "    https://scikit-learn.org/stable/modules/preprocessing.html\n",
      "Please also refer to the documentation for alternative solver options:\n",
      "    https://scikit-learn.org/stable/modules/linear_model.html#logistic-regression\n",
      "  n_iter_i = _check_optimize_result(\n",
      "/Users/dylanadlard/miniforge3/envs/rif_manuscript/lib/python3.12/site-packages/sklearn/linear_model/_logistic.py:460: ConvergenceWarning: lbfgs failed to converge (status=1):\n",
      "STOP: TOTAL NO. of f AND g EVALUATIONS EXCEEDS LIMIT.\n",
      "\n",
      "Increase the number of iterations (max_iter) or scale the data as shown in:\n",
      "    https://scikit-learn.org/stable/modules/preprocessing.html\n",
      "Please also refer to the documentation for alternative solver options:\n",
      "    https://scikit-learn.org/stable/modules/linear_model.html#logistic-regression\n",
      "  n_iter_i = _check_optimize_result(\n",
      "/Users/dylanadlard/miniforge3/envs/rif_manuscript/lib/python3.12/site-packages/sklearn/linear_model/_logistic.py:460: ConvergenceWarning: lbfgs failed to converge (status=1):\n",
      "STOP: TOTAL NO. of f AND g EVALUATIONS EXCEEDS LIMIT.\n",
      "\n",
      "Increase the number of iterations (max_iter) or scale the data as shown in:\n",
      "    https://scikit-learn.org/stable/modules/preprocessing.html\n",
      "Please also refer to the documentation for alternative solver options:\n",
      "    https://scikit-learn.org/stable/modules/linear_model.html#logistic-regression\n",
      "  n_iter_i = _check_optimize_result(\n",
      "/Users/dylanadlard/miniforge3/envs/rif_manuscript/lib/python3.12/site-packages/sklearn/linear_model/_logistic.py:460: ConvergenceWarning: lbfgs failed to converge (status=1):\n",
      "STOP: TOTAL NO. of f AND g EVALUATIONS EXCEEDS LIMIT.\n",
      "\n",
      "Increase the number of iterations (max_iter) or scale the data as shown in:\n",
      "    https://scikit-learn.org/stable/modules/preprocessing.html\n",
      "Please also refer to the documentation for alternative solver options:\n",
      "    https://scikit-learn.org/stable/modules/linear_model.html#logistic-regression\n",
      "  n_iter_i = _check_optimize_result(\n",
      "/Users/dylanadlard/miniforge3/envs/rif_manuscript/lib/python3.12/site-packages/sklearn/linear_model/_logistic.py:460: ConvergenceWarning: lbfgs failed to converge (status=1):\n",
      "STOP: TOTAL NO. of f AND g EVALUATIONS EXCEEDS LIMIT.\n",
      "\n",
      "Increase the number of iterations (max_iter) or scale the data as shown in:\n",
      "    https://scikit-learn.org/stable/modules/preprocessing.html\n",
      "Please also refer to the documentation for alternative solver options:\n",
      "    https://scikit-learn.org/stable/modules/linear_model.html#logistic-regression\n",
      "  n_iter_i = _check_optimize_result(\n",
      "/Users/dylanadlard/miniforge3/envs/rif_manuscript/lib/python3.12/site-packages/sklearn/linear_model/_logistic.py:460: ConvergenceWarning: lbfgs failed to converge (status=1):\n",
      "STOP: TOTAL NO. of f AND g EVALUATIONS EXCEEDS LIMIT.\n",
      "\n",
      "Increase the number of iterations (max_iter) or scale the data as shown in:\n",
      "    https://scikit-learn.org/stable/modules/preprocessing.html\n",
      "Please also refer to the documentation for alternative solver options:\n",
      "    https://scikit-learn.org/stable/modules/linear_model.html#logistic-regression\n",
      "  n_iter_i = _check_optimize_result(\n",
      "/Users/dylanadlard/miniforge3/envs/rif_manuscript/lib/python3.12/site-packages/sklearn/linear_model/_logistic.py:460: ConvergenceWarning: lbfgs failed to converge (status=1):\n",
      "STOP: TOTAL NO. of f AND g EVALUATIONS EXCEEDS LIMIT.\n",
      "\n",
      "Increase the number of iterations (max_iter) or scale the data as shown in:\n",
      "    https://scikit-learn.org/stable/modules/preprocessing.html\n",
      "Please also refer to the documentation for alternative solver options:\n",
      "    https://scikit-learn.org/stable/modules/linear_model.html#logistic-regression\n",
      "  n_iter_i = _check_optimize_result(\n",
      "/Users/dylanadlard/miniforge3/envs/rif_manuscript/lib/python3.12/site-packages/sklearn/linear_model/_logistic.py:460: ConvergenceWarning: lbfgs failed to converge (status=1):\n",
      "STOP: TOTAL NO. of f AND g EVALUATIONS EXCEEDS LIMIT.\n",
      "\n",
      "Increase the number of iterations (max_iter) or scale the data as shown in:\n",
      "    https://scikit-learn.org/stable/modules/preprocessing.html\n",
      "Please also refer to the documentation for alternative solver options:\n",
      "    https://scikit-learn.org/stable/modules/linear_model.html#logistic-regression\n",
      "  n_iter_i = _check_optimize_result(\n",
      "/Users/dylanadlard/miniforge3/envs/rif_manuscript/lib/python3.12/site-packages/sklearn/linear_model/_logistic.py:460: ConvergenceWarning: lbfgs failed to converge (status=1):\n",
      "STOP: TOTAL NO. of f AND g EVALUATIONS EXCEEDS LIMIT.\n",
      "\n",
      "Increase the number of iterations (max_iter) or scale the data as shown in:\n",
      "    https://scikit-learn.org/stable/modules/preprocessing.html\n",
      "Please also refer to the documentation for alternative solver options:\n",
      "    https://scikit-learn.org/stable/modules/linear_model.html#logistic-regression\n",
      "  n_iter_i = _check_optimize_result(\n",
      "/Users/dylanadlard/miniforge3/envs/rif_manuscript/lib/python3.12/site-packages/sklearn/linear_model/_logistic.py:460: ConvergenceWarning: lbfgs failed to converge (status=1):\n",
      "STOP: TOTAL NO. of f AND g EVALUATIONS EXCEEDS LIMIT.\n",
      "\n",
      "Increase the number of iterations (max_iter) or scale the data as shown in:\n",
      "    https://scikit-learn.org/stable/modules/preprocessing.html\n",
      "Please also refer to the documentation for alternative solver options:\n",
      "    https://scikit-learn.org/stable/modules/linear_model.html#logistic-regression\n",
      "  n_iter_i = _check_optimize_result(\n",
      "/Users/dylanadlard/miniforge3/envs/rif_manuscript/lib/python3.12/site-packages/sklearn/linear_model/_logistic.py:460: ConvergenceWarning: lbfgs failed to converge (status=1):\n",
      "STOP: TOTAL NO. of f AND g EVALUATIONS EXCEEDS LIMIT.\n",
      "\n",
      "Increase the number of iterations (max_iter) or scale the data as shown in:\n",
      "    https://scikit-learn.org/stable/modules/preprocessing.html\n",
      "Please also refer to the documentation for alternative solver options:\n",
      "    https://scikit-learn.org/stable/modules/linear_model.html#logistic-regression\n",
      "  n_iter_i = _check_optimize_result(\n",
      "/Users/dylanadlard/miniforge3/envs/rif_manuscript/lib/python3.12/site-packages/sklearn/linear_model/_logistic.py:460: ConvergenceWarning: lbfgs failed to converge (status=1):\n",
      "STOP: TOTAL NO. of f AND g EVALUATIONS EXCEEDS LIMIT.\n",
      "\n",
      "Increase the number of iterations (max_iter) or scale the data as shown in:\n",
      "    https://scikit-learn.org/stable/modules/preprocessing.html\n",
      "Please also refer to the documentation for alternative solver options:\n",
      "    https://scikit-learn.org/stable/modules/linear_model.html#logistic-regression\n",
      "  n_iter_i = _check_optimize_result(\n",
      "/Users/dylanadlard/miniforge3/envs/rif_manuscript/lib/python3.12/site-packages/sklearn/linear_model/_logistic.py:460: ConvergenceWarning: lbfgs failed to converge (status=1):\n",
      "STOP: TOTAL NO. of f AND g EVALUATIONS EXCEEDS LIMIT.\n",
      "\n",
      "Increase the number of iterations (max_iter) or scale the data as shown in:\n",
      "    https://scikit-learn.org/stable/modules/preprocessing.html\n",
      "Please also refer to the documentation for alternative solver options:\n",
      "    https://scikit-learn.org/stable/modules/linear_model.html#logistic-regression\n",
      "  n_iter_i = _check_optimize_result(\n",
      "/Users/dylanadlard/miniforge3/envs/rif_manuscript/lib/python3.12/site-packages/sklearn/linear_model/_logistic.py:460: ConvergenceWarning: lbfgs failed to converge (status=1):\n",
      "STOP: TOTAL NO. of f AND g EVALUATIONS EXCEEDS LIMIT.\n",
      "\n",
      "Increase the number of iterations (max_iter) or scale the data as shown in:\n",
      "    https://scikit-learn.org/stable/modules/preprocessing.html\n",
      "Please also refer to the documentation for alternative solver options:\n",
      "    https://scikit-learn.org/stable/modules/linear_model.html#logistic-regression\n",
      "  n_iter_i = _check_optimize_result(\n",
      "/Users/dylanadlard/miniforge3/envs/rif_manuscript/lib/python3.12/site-packages/sklearn/linear_model/_logistic.py:460: ConvergenceWarning: lbfgs failed to converge (status=1):\n",
      "STOP: TOTAL NO. of f AND g EVALUATIONS EXCEEDS LIMIT.\n",
      "\n",
      "Increase the number of iterations (max_iter) or scale the data as shown in:\n",
      "    https://scikit-learn.org/stable/modules/preprocessing.html\n",
      "Please also refer to the documentation for alternative solver options:\n",
      "    https://scikit-learn.org/stable/modules/linear_model.html#logistic-regression\n",
      "  n_iter_i = _check_optimize_result(\n",
      "/Users/dylanadlard/miniforge3/envs/rif_manuscript/lib/python3.12/site-packages/sklearn/linear_model/_logistic.py:460: ConvergenceWarning: lbfgs failed to converge (status=1):\n",
      "STOP: TOTAL NO. of f AND g EVALUATIONS EXCEEDS LIMIT.\n",
      "\n",
      "Increase the number of iterations (max_iter) or scale the data as shown in:\n",
      "    https://scikit-learn.org/stable/modules/preprocessing.html\n",
      "Please also refer to the documentation for alternative solver options:\n",
      "    https://scikit-learn.org/stable/modules/linear_model.html#logistic-regression\n",
      "  n_iter_i = _check_optimize_result(\n",
      "/Users/dylanadlard/miniforge3/envs/rif_manuscript/lib/python3.12/site-packages/sklearn/linear_model/_logistic.py:460: ConvergenceWarning: lbfgs failed to converge (status=1):\n",
      "STOP: TOTAL NO. of f AND g EVALUATIONS EXCEEDS LIMIT.\n",
      "\n",
      "Increase the number of iterations (max_iter) or scale the data as shown in:\n",
      "    https://scikit-learn.org/stable/modules/preprocessing.html\n",
      "Please also refer to the documentation for alternative solver options:\n",
      "    https://scikit-learn.org/stable/modules/linear_model.html#logistic-regression\n",
      "  n_iter_i = _check_optimize_result(\n",
      "/Users/dylanadlard/miniforge3/envs/rif_manuscript/lib/python3.12/site-packages/sklearn/linear_model/_logistic.py:460: ConvergenceWarning: lbfgs failed to converge (status=1):\n",
      "STOP: TOTAL NO. of f AND g EVALUATIONS EXCEEDS LIMIT.\n",
      "\n",
      "Increase the number of iterations (max_iter) or scale the data as shown in:\n",
      "    https://scikit-learn.org/stable/modules/preprocessing.html\n",
      "Please also refer to the documentation for alternative solver options:\n",
      "    https://scikit-learn.org/stable/modules/linear_model.html#logistic-regression\n",
      "  n_iter_i = _check_optimize_result(\n",
      "/Users/dylanadlard/miniforge3/envs/rif_manuscript/lib/python3.12/site-packages/sklearn/linear_model/_logistic.py:460: ConvergenceWarning: lbfgs failed to converge (status=1):\n",
      "STOP: TOTAL NO. of f AND g EVALUATIONS EXCEEDS LIMIT.\n",
      "\n",
      "Increase the number of iterations (max_iter) or scale the data as shown in:\n",
      "    https://scikit-learn.org/stable/modules/preprocessing.html\n",
      "Please also refer to the documentation for alternative solver options:\n",
      "    https://scikit-learn.org/stable/modules/linear_model.html#logistic-regression\n",
      "  n_iter_i = _check_optimize_result(\n",
      "/Users/dylanadlard/miniforge3/envs/rif_manuscript/lib/python3.12/site-packages/sklearn/linear_model/_logistic.py:460: ConvergenceWarning: lbfgs failed to converge (status=1):\n",
      "STOP: TOTAL NO. of f AND g EVALUATIONS EXCEEDS LIMIT.\n",
      "\n",
      "Increase the number of iterations (max_iter) or scale the data as shown in:\n",
      "    https://scikit-learn.org/stable/modules/preprocessing.html\n",
      "Please also refer to the documentation for alternative solver options:\n",
      "    https://scikit-learn.org/stable/modules/linear_model.html#logistic-regression\n",
      "  n_iter_i = _check_optimize_result(\n",
      "/Users/dylanadlard/miniforge3/envs/rif_manuscript/lib/python3.12/site-packages/sklearn/linear_model/_logistic.py:460: ConvergenceWarning: lbfgs failed to converge (status=1):\n",
      "STOP: TOTAL NO. of f AND g EVALUATIONS EXCEEDS LIMIT.\n",
      "\n",
      "Increase the number of iterations (max_iter) or scale the data as shown in:\n",
      "    https://scikit-learn.org/stable/modules/preprocessing.html\n",
      "Please also refer to the documentation for alternative solver options:\n",
      "    https://scikit-learn.org/stable/modules/linear_model.html#logistic-regression\n",
      "  n_iter_i = _check_optimize_result(\n",
      "/Users/dylanadlard/miniforge3/envs/rif_manuscript/lib/python3.12/site-packages/sklearn/linear_model/_logistic.py:460: ConvergenceWarning: lbfgs failed to converge (status=1):\n",
      "STOP: TOTAL NO. of f AND g EVALUATIONS EXCEEDS LIMIT.\n",
      "\n",
      "Increase the number of iterations (max_iter) or scale the data as shown in:\n",
      "    https://scikit-learn.org/stable/modules/preprocessing.html\n",
      "Please also refer to the documentation for alternative solver options:\n",
      "    https://scikit-learn.org/stable/modules/linear_model.html#logistic-regression\n",
      "  n_iter_i = _check_optimize_result(\n",
      "/Users/dylanadlard/miniforge3/envs/rif_manuscript/lib/python3.12/site-packages/sklearn/linear_model/_logistic.py:460: ConvergenceWarning: lbfgs failed to converge (status=1):\n",
      "STOP: TOTAL NO. of f AND g EVALUATIONS EXCEEDS LIMIT.\n",
      "\n",
      "Increase the number of iterations (max_iter) or scale the data as shown in:\n",
      "    https://scikit-learn.org/stable/modules/preprocessing.html\n",
      "Please also refer to the documentation for alternative solver options:\n",
      "    https://scikit-learn.org/stable/modules/linear_model.html#logistic-regression\n",
      "  n_iter_i = _check_optimize_result(\n",
      "/Users/dylanadlard/miniforge3/envs/rif_manuscript/lib/python3.12/site-packages/sklearn/linear_model/_logistic.py:460: ConvergenceWarning: lbfgs failed to converge (status=1):\n",
      "STOP: TOTAL NO. of f AND g EVALUATIONS EXCEEDS LIMIT.\n",
      "\n",
      "Increase the number of iterations (max_iter) or scale the data as shown in:\n",
      "    https://scikit-learn.org/stable/modules/preprocessing.html\n",
      "Please also refer to the documentation for alternative solver options:\n",
      "    https://scikit-learn.org/stable/modules/linear_model.html#logistic-regression\n",
      "  n_iter_i = _check_optimize_result(\n",
      "/Users/dylanadlard/miniforge3/envs/rif_manuscript/lib/python3.12/site-packages/sklearn/linear_model/_logistic.py:460: ConvergenceWarning: lbfgs failed to converge (status=1):\n",
      "STOP: TOTAL NO. of f AND g EVALUATIONS EXCEEDS LIMIT.\n",
      "\n",
      "Increase the number of iterations (max_iter) or scale the data as shown in:\n",
      "    https://scikit-learn.org/stable/modules/preprocessing.html\n",
      "Please also refer to the documentation for alternative solver options:\n",
      "    https://scikit-learn.org/stable/modules/linear_model.html#logistic-regression\n",
      "  n_iter_i = _check_optimize_result(\n",
      "/Users/dylanadlard/miniforge3/envs/rif_manuscript/lib/python3.12/site-packages/sklearn/linear_model/_logistic.py:460: ConvergenceWarning: lbfgs failed to converge (status=1):\n",
      "STOP: TOTAL NO. of f AND g EVALUATIONS EXCEEDS LIMIT.\n",
      "\n",
      "Increase the number of iterations (max_iter) or scale the data as shown in:\n",
      "    https://scikit-learn.org/stable/modules/preprocessing.html\n",
      "Please also refer to the documentation for alternative solver options:\n",
      "    https://scikit-learn.org/stable/modules/linear_model.html#logistic-regression\n",
      "  n_iter_i = _check_optimize_result(\n",
      "/Users/dylanadlard/miniforge3/envs/rif_manuscript/lib/python3.12/site-packages/sklearn/linear_model/_logistic.py:460: ConvergenceWarning: lbfgs failed to converge (status=1):\n",
      "STOP: TOTAL NO. of f AND g EVALUATIONS EXCEEDS LIMIT.\n",
      "\n",
      "Increase the number of iterations (max_iter) or scale the data as shown in:\n",
      "    https://scikit-learn.org/stable/modules/preprocessing.html\n",
      "Please also refer to the documentation for alternative solver options:\n",
      "    https://scikit-learn.org/stable/modules/linear_model.html#logistic-regression\n",
      "  n_iter_i = _check_optimize_result(\n",
      "/Users/dylanadlard/miniforge3/envs/rif_manuscript/lib/python3.12/site-packages/sklearn/linear_model/_logistic.py:460: ConvergenceWarning: lbfgs failed to converge (status=1):\n",
      "STOP: TOTAL NO. of f AND g EVALUATIONS EXCEEDS LIMIT.\n",
      "\n",
      "Increase the number of iterations (max_iter) or scale the data as shown in:\n",
      "    https://scikit-learn.org/stable/modules/preprocessing.html\n",
      "Please also refer to the documentation for alternative solver options:\n",
      "    https://scikit-learn.org/stable/modules/linear_model.html#logistic-regression\n",
      "  n_iter_i = _check_optimize_result(\n",
      "/Users/dylanadlard/miniforge3/envs/rif_manuscript/lib/python3.12/site-packages/sklearn/linear_model/_logistic.py:460: ConvergenceWarning: lbfgs failed to converge (status=1):\n",
      "STOP: TOTAL NO. of f AND g EVALUATIONS EXCEEDS LIMIT.\n",
      "\n",
      "Increase the number of iterations (max_iter) or scale the data as shown in:\n",
      "    https://scikit-learn.org/stable/modules/preprocessing.html\n",
      "Please also refer to the documentation for alternative solver options:\n",
      "    https://scikit-learn.org/stable/modules/linear_model.html#logistic-regression\n",
      "  n_iter_i = _check_optimize_result(\n",
      "/Users/dylanadlard/miniforge3/envs/rif_manuscript/lib/python3.12/site-packages/sklearn/linear_model/_logistic.py:460: ConvergenceWarning: lbfgs failed to converge (status=1):\n",
      "STOP: TOTAL NO. of f AND g EVALUATIONS EXCEEDS LIMIT.\n",
      "\n",
      "Increase the number of iterations (max_iter) or scale the data as shown in:\n",
      "    https://scikit-learn.org/stable/modules/preprocessing.html\n",
      "Please also refer to the documentation for alternative solver options:\n",
      "    https://scikit-learn.org/stable/modules/linear_model.html#logistic-regression\n",
      "  n_iter_i = _check_optimize_result(\n",
      "/Users/dylanadlard/miniforge3/envs/rif_manuscript/lib/python3.12/site-packages/sklearn/linear_model/_logistic.py:460: ConvergenceWarning: lbfgs failed to converge (status=1):\n",
      "STOP: TOTAL NO. of f AND g EVALUATIONS EXCEEDS LIMIT.\n",
      "\n",
      "Increase the number of iterations (max_iter) or scale the data as shown in:\n",
      "    https://scikit-learn.org/stable/modules/preprocessing.html\n",
      "Please also refer to the documentation for alternative solver options:\n",
      "    https://scikit-learn.org/stable/modules/linear_model.html#logistic-regression\n",
      "  n_iter_i = _check_optimize_result(\n"
     ]
    }
   ],
   "source": [
    "columns = list(sorted_feature_list) + ['phenotype']\n",
    "be_results = {len(columns) - i - 1: [] for i in range(len(sorted_feature_list))}\n",
    "\n",
    "# Run the model for each feature removed and each seed\n",
    "for feat in sorted_feature_list:\n",
    "    temp_results = []\n",
    "    for seed in random_seeds:\n",
    "        feature_data = data[columns]\n",
    "        model = Models(\n",
    "            {\"all\": feature_data},\n",
    "            'LR',\n",
    "            \"recall\",\n",
    "            random_seed=seed,\n",
    "            test_fraction=0.20,\n",
    "            verbose=False,\n",
    "            output_plots=False,\n",
    "        )\n",
    "        output = model.returning_output(output_plots=False)\n",
    "        temp_results.append(output)\n",
    "    be_results[len(columns)-1].extend(temp_results)\n",
    "    columns.remove(feat)"
   ]
  },
  {
   "cell_type": "code",
   "execution_count": 440,
   "metadata": {},
   "outputs": [
    {
     "data": {
      "image/png": "[encoded data removed]",
      "text/plain": [
       "<Figure size 600x400 with 1 Axes>"
      ]
     },
     "metadata": {},
     "output_type": "display_data"
    }
   ],
   "source": [
    "utils.plot_backwards_elim(be_results, figsize=(6, 4))"
   ]
  },
  {
   "cell_type": "markdown",
   "metadata": {},
   "source": [
    "There is no significant difference between models trained with varying numbers of features. However, as long as predictive power and generalizability are retained, simpler models are preferable. We could potentially use just a single feature, Rif distance, but to maintain some variation in feature space, we can keep the top 4 features based on their individual ROC AUC scores."
   ]
  },
  {
   "cell_type": "code",
   "execution_count": 393,
   "metadata": {},
   "outputs": [
    {
     "name": "stdout",
     "output_type": "stream",
     "text": [
      "Features selected for: ['Rif_distance', 'RNA_distance', 'snap2_score', 'temp_factor']\n"
     ]
    }
   ],
   "source": [
    "feature_list = ['Rif_distance', 'RNA_distance', 'snap2_score', 'temp_factor']\n",
    "features_and_label = feature_list + ['phenotype']\n",
    "\n",
    "print (\"Features selected for:\", feature_list)"
   ]
  },
  {
   "cell_type": "markdown",
   "metadata": {},
   "source": [
    "## Different model architectures"
   ]
  },
  {
   "cell_type": "markdown",
   "metadata": {},
   "source": [
    "To test feature importance we have been training a logistric regression model, however other architecture may perform better:"
   ]
  },
  {
   "cell_type": "code",
   "execution_count": 394,
   "metadata": {},
   "outputs": [],
   "source": [
    "model_types = ['LR', 'DT', 'RF', 'GBDT']\n",
    "all_models_results = {model_type: [] for model_type in model_types}\n",
    "\n",
    "for model_type in model_types:\n",
    "    for seed in random_seeds:\n",
    "        model = Models(\n",
    "            {\"all\": data[features_and_label]},\n",
    "            model_type,\n",
    "            \"recall\",\n",
    "            random_seed=seed,\n",
    "            test_fraction=0.20,\n",
    "            verbose=False,\n",
    "            output_plots=False,\n",
    "        )\n",
    "        output = model.returning_output(output_plots=False)\n",
    "        all_models_results[model_type].append(output)\n"
   ]
  },
  {
   "cell_type": "code",
   "execution_count": 443,
   "metadata": {},
   "outputs": [
    {
     "name": "stdout",
     "output_type": "stream",
     "text": [
      "Mean Confusion Matrix for LR:\n"
     ]
    },
    {
     "data": {
      "image/png": "[encoded data removed]",
      "text/plain": [
       "<Figure size 250x250 with 1 Axes>"
      ]
     },
     "metadata": {},
     "output_type": "display_data"
    },
    {
     "name": "stdout",
     "output_type": "stream",
     "text": [
      "Mean Confusion Matrix for DT:\n"
     ]
    },
    {
     "data": {
      "image/png": "[encoded data removed]",
      "text/plain": [
       "<Figure size 250x250 with 1 Axes>"
      ]
     },
     "metadata": {},
     "output_type": "display_data"
    },
    {
     "name": "stdout",
     "output_type": "stream",
     "text": [
      "Mean Confusion Matrix for RF:\n"
     ]
    },
    {
     "data": {
      "image/png": "[encoded data removed]",
      "text/plain": [
       "<Figure size 250x250 with 1 Axes>"
      ]
     },
     "metadata": {},
     "output_type": "display_data"
    },
    {
     "name": "stdout",
     "output_type": "stream",
     "text": [
      "Mean Confusion Matrix for GBDT:\n"
     ]
    },
    {
     "data": {
      "image/png": "[encoded data removed]",
      "text/plain": [
       "<Figure size 250x250 with 1 Axes>"
      ]
     },
     "metadata": {},
     "output_type": "display_data"
    }
   ],
   "source": [
    "\n",
    "for model_name, model_results in all_models_results.items():\n",
    "    if model_name!='ensemble':\n",
    "        cm_sum = np.zeros_like(model_results[0]['Confusion_matrix_shifted'])\n",
    "\n",
    "        # Sum the confusion matrices\n",
    "        for result in model_results:\n",
    "            cm_sum += result['Confusion_matrix_shifted']\n",
    "\n",
    "        # Calculate the mean confusion matrices\n",
    "        cm_mean = cm_sum / len(model_results)\n",
    "\n",
    "        # Round to the nearest whole number\n",
    "        cm_mean = np.round(cm_mean)\n",
    "\n",
    "        # Convert confusion matrices to DataFrame for plotting\n",
    "        classes = ['S', 'R']\n",
    "        truth_table = pd.DataFrame(cm_mean, index=classes, columns=classes)\n",
    "\n",
    "        # Plotting original confusion matrix\n",
    "        print(f\"Mean Confusion Matrix for {model_name}:\")\n",
    "        utils.plot_truthtables(truth_table, figsize=(2.5, 2.5))\n",
    "        "
   ]
  },
  {
   "cell_type": "code",
   "execution_count": 444,
   "metadata": {},
   "outputs": [
    {
     "data": {
      "image/png": "[encoded data removed]",
      "text/plain": [
       "<Figure size 900x400 with 1 Axes>"
      ]
     },
     "metadata": {},
     "output_type": "display_data"
    }
   ],
   "source": [
    "utils.plot_recall_specificity_with_ci(all_models_results, figsize=(9, 4), colors=['#66c2a5', '#fc8d62', '#8da0cb', '#e78ac3'])\n",
    "#e78ac3])"
   ]
  },
  {
   "cell_type": "markdown",
   "metadata": {},
   "source": [
    "There is no significant difference in performance among the four models, although the Decision Tree (DT) model appears to perform slightly better. However, this difference is not statistically significant, as indicated by the overlapping confidence intervals, and could vary if the analysis were rerun.\n",
    "\n",
    "This result is intuitive, as accurate predictions can be achieved using a simple distance threshold from Rifampicin. The binary decision logic of a decision tree is particularly well-suited to this type of problem, providing heuristic-like predictions that are logical and easy to interpret (ie why over complicate)."
   ]
  },
  {
   "cell_type": "markdown",
   "metadata": {},
   "source": [
    "However, it does make very major errors - lets investigate what/where those are:"
   ]
  },
  {
   "cell_type": "code",
   "execution_count": 397,
   "metadata": {},
   "outputs": [
    {
     "data": {
      "image/png": "[encoded data removed]",
      "text/plain": [
       "<Figure size 900x500 with 1 Axes>"
      ]
     },
     "metadata": {},
     "output_type": "display_data"
    }
   ],
   "source": [
    "# Pull out optimal DT model from ml-models on random splits of the data\n",
    "# and then mean the sensitivities and specificities of each mutation\n",
    "# and plot with respect to distance from Rif\n",
    "\n",
    "# Initialize dictionary for mutation stats\n",
    "mutation_stats = {mut: {'FP': 0, 'FN': 0, 'TN': 0, 'TP': 0} for mut in data['mutation']}\n",
    "\n",
    "# Iterate through random splits\n",
    "for seed in random_seeds:\n",
    "    model = Models(\n",
    "        {\"all\": data[features_and_label]}, \"DT\", \"recall\",\n",
    "        random_seed=seed, test_fraction=0.20,\n",
    "        verbose=False, output_plots=False,\n",
    "        sample_ids={'all':data.mutation}\n",
    "    )\n",
    "\n",
    "    X_train, y_train = model.X_train_nd[\"all\"], model.y_train_nd[\"all\"]\n",
    "    X_test, y_test = model.X_test_nd[\"all\"], model.y_test_nd[\"all\"]\n",
    "    est, thresh = model.opt_estimator, model.opt_threshold\n",
    "\n",
    "    est.fit(X_train, y_train)\n",
    "    y_pred = (est.predict_proba(X_test)[:, 1] >= thresh).astype(int)\n",
    "\n",
    "    X_test_df = pd.DataFrame(X_test, columns=feature_list)\n",
    "    X_test_df['y_test'], X_test_df['y_pred'] = y_test, y_pred\n",
    "\n",
    "    # Identify and merge false positives/negatives with feature data to get distances\n",
    "    for label, df in [('TP', (X_test_df['y_test'] == 1) & (X_test_df['y_pred'] == 1)),\n",
    "                      ('TN', (X_test_df['y_test'] == 0) & (X_test_df['y_pred'] == 0)),\n",
    "                      ('FP', (X_test_df['y_test'] == 0) & (X_test_df['y_pred'] == 1)),\n",
    "                      ('FN', (X_test_df['y_test'] == 1) & (X_test_df['y_pred'] == 0))]:\n",
    "        merged_df = pd.merge(X_test_df[df], data, on=['snap2_score', 'Rif_distance', 'RNA_distance', 'temp_factor'], how='left')\n",
    "  \n",
    "        for mut in merged_df['mutation']:\n",
    "            mutation_stats[mut][label] += 1\n",
    "\n",
    "# Create and plot stats DataFrame\n",
    "stats_df = pd.DataFrame(mutation_stats).T.reset_index().rename(columns={'index': 'mutation'})\n",
    "stats_df = pd.merge(stats_df, data[['mutation', 'Rif_distance', 'phenotype']], on='mutation', how='left')\n",
    "utils.metrics_vs_distance(stats_df, figsize=(9, 5))"
   ]
  },
  {
   "cell_type": "code",
   "execution_count": 398,
   "metadata": {},
   "outputs": [
    {
     "data": {
      "image/png": "[encoded data removed]",
      "text/plain": [
       "<Figure size 800x500 with 1 Axes>"
      ]
     },
     "metadata": {},
     "output_type": "display_data"
    }
   ],
   "source": [
    "feature_names = [i for i in feature_list if i != 'phenotype']\n",
    "plt.figure(figsize=(8, 5))\n",
    "plot_tree(model.opt_estimator, feature_names=feature_list, class_names=['Class 0', 'Class 1'], filled=True, rounded=True)\n",
    "plt.show()"
   ]
  },
  {
   "cell_type": "markdown",
   "metadata": {},
   "source": [
    "As distance increases beyone 13A, predictions almost entirely switch to susceptible.\n",
    "\n",
    "We get a drop in recall due to 6 mutations, which are almost certainly phenotype false positives despite passing the Binomial test's confidence threshold:"
   ]
  },
  {
   "cell_type": "code",
   "execution_count": 399,
   "metadata": {},
   "outputs": [
    {
     "data": {
      "text/html": [
       "<div>\n",
       "<style scoped>\n",
       "    .dataframe tbody tr th:only-of-type {\n",
       "        vertical-align: middle;\n",
       "    }\n",
       "\n",
       "    .dataframe tbody tr th {\n",
       "        vertical-align: top;\n",
       "    }\n",
       "\n",
       "    .dataframe thead th {\n",
       "        text-align: right;\n",
       "    }\n",
       "</style>\n",
       "<table border=\"1\" class=\"dataframe\">\n",
       "  <thead>\n",
       "    <tr style=\"text-align: right;\">\n",
       "      <th></th>\n",
       "      <th>mutation</th>\n",
       "      <th>FP</th>\n",
       "      <th>FN</th>\n",
       "      <th>TN</th>\n",
       "      <th>TP</th>\n",
       "      <th>Rif_distance</th>\n",
       "      <th>phenotype</th>\n",
       "      <th>Sensitivity</th>\n",
       "      <th>Specificity</th>\n",
       "    </tr>\n",
       "  </thead>\n",
       "  <tbody>\n",
       "    <tr>\n",
       "      <th>255</th>\n",
       "      <td>E207K</td>\n",
       "      <td>0</td>\n",
       "      <td>7</td>\n",
       "      <td>0</td>\n",
       "      <td>0</td>\n",
       "      <td>35.076130</td>\n",
       "      <td>1</td>\n",
       "      <td>0.0</td>\n",
       "      <td>NaN</td>\n",
       "    </tr>\n",
       "    <tr>\n",
       "      <th>256</th>\n",
       "      <td>L731P</td>\n",
       "      <td>0</td>\n",
       "      <td>8</td>\n",
       "      <td>0</td>\n",
       "      <td>0</td>\n",
       "      <td>33.058292</td>\n",
       "      <td>1</td>\n",
       "      <td>0.0</td>\n",
       "      <td>NaN</td>\n",
       "    </tr>\n",
       "    <tr>\n",
       "      <th>258</th>\n",
       "      <td>S493R</td>\n",
       "      <td>0</td>\n",
       "      <td>14</td>\n",
       "      <td>0</td>\n",
       "      <td>0</td>\n",
       "      <td>13.468693</td>\n",
       "      <td>1</td>\n",
       "      <td>0.0</td>\n",
       "      <td>NaN</td>\n",
       "    </tr>\n",
       "    <tr>\n",
       "      <th>262</th>\n",
       "      <td>V262A</td>\n",
       "      <td>0</td>\n",
       "      <td>13</td>\n",
       "      <td>0</td>\n",
       "      <td>0</td>\n",
       "      <td>56.595298</td>\n",
       "      <td>1</td>\n",
       "      <td>0.0</td>\n",
       "      <td>NaN</td>\n",
       "    </tr>\n",
       "    <tr>\n",
       "      <th>263</th>\n",
       "      <td>S582A</td>\n",
       "      <td>0</td>\n",
       "      <td>10</td>\n",
       "      <td>0</td>\n",
       "      <td>0</td>\n",
       "      <td>18.638826</td>\n",
       "      <td>1</td>\n",
       "      <td>0.0</td>\n",
       "      <td>NaN</td>\n",
       "    </tr>\n",
       "    <tr>\n",
       "      <th>264</th>\n",
       "      <td>L378R</td>\n",
       "      <td>0</td>\n",
       "      <td>14</td>\n",
       "      <td>0</td>\n",
       "      <td>0</td>\n",
       "      <td>17.636419</td>\n",
       "      <td>1</td>\n",
       "      <td>0.0</td>\n",
       "      <td>NaN</td>\n",
       "    </tr>\n",
       "  </tbody>\n",
       "</table>\n",
       "</div>"
      ],
      "text/plain": [
       "    mutation  FP  FN  TN  TP  Rif_distance  phenotype  Sensitivity  \\\n",
       "255    E207K   0   7   0   0     35.076130          1          0.0   \n",
       "256    L731P   0   8   0   0     33.058292          1          0.0   \n",
       "258    S493R   0  14   0   0     13.468693          1          0.0   \n",
       "262    V262A   0  13   0   0     56.595298          1          0.0   \n",
       "263    S582A   0  10   0   0     18.638826          1          0.0   \n",
       "264    L378R   0  14   0   0     17.636419          1          0.0   \n",
       "\n",
       "     Specificity  \n",
       "255          NaN  \n",
       "256          NaN  \n",
       "258          NaN  \n",
       "262          NaN  \n",
       "263          NaN  \n",
       "264          NaN  "
      ]
     },
     "execution_count": 399,
     "metadata": {},
     "output_type": "execute_result"
    }
   ],
   "source": [
    "stats_df[stats_df.Sensitivity<0.5]"
   ]
  },
  {
   "cell_type": "markdown",
   "metadata": {},
   "source": [
    "# Discrepancy analysis between models"
   ]
  },
  {
   "cell_type": "markdown",
   "metadata": {},
   "source": [
    "Are the models missing different RAV's and making different false positive predictions?"
   ]
  },
  {
   "cell_type": "code",
   "execution_count": 400,
   "metadata": {},
   "outputs": [],
   "source": [
    "model_types = ['RF', 'LR', 'DT', 'GBDT']\n",
    "\n",
    "mutation_stats = {\n",
    "    mut: {\n",
    "        model: {'FP': 0, 'FN': 0, 'TN': 0, 'TP': 0}\n",
    "        for model in model_types\n",
    "    }\n",
    "    for mut in data['mutation']\n",
    "}"
   ]
  },
  {
   "cell_type": "code",
   "execution_count": 401,
   "metadata": {},
   "outputs": [],
   "source": [
    "#not a priority - but we may be able to do this without re-fitting \n",
    "\n",
    "\n",
    "for i in range(50):\n",
    "    for type in model_types:\n",
    "        model = Models(\n",
    "        {\"all\": data[features_and_label]}, type, \"recall\",\n",
    "        random_seed=i, test_fraction=0.20,\n",
    "        verbose=False, output_plots=False,\n",
    "        sample_ids = {'all':data.mutation}\n",
    "    )\n",
    "        \n",
    "        X_train, y_train = model.X_train_nd[\"all\"], model.y_train_nd[\"all\"]\n",
    "        X_test, y_test = model.X_test_nd[\"all\"], model.y_test_nd[\"all\"]\n",
    "        est, thresh = model.opt_estimator, model.opt_threshold\n",
    "        #re-fit best performing model to training data\n",
    "        est.fit(X_train, y_train)\n",
    "        #predict on test direclty so we can easily pull out TP, TN, FP, FN\n",
    "        y_pred = (est.predict_proba(X_test)[:, 1] >= thresh).astype(int)\n",
    "\n",
    "        X_test_df = pd.DataFrame(X_test, columns=feature_list)\n",
    "        X_test_df['y_test'], X_test_df['y_pred'] = y_test, y_pred\n",
    "\n",
    "        # Identify and merge false positives/negatives with feature data\n",
    "        for label, df in [('TP', (X_test_df['y_test'] == 1) & (X_test_df['y_pred'] == 1)),\n",
    "                        ('TN', (X_test_df['y_test'] == 0) & (X_test_df['y_pred'] == 0)),\n",
    "                        ('FP', (X_test_df['y_test'] == 0) & (X_test_df['y_pred'] == 1)),\n",
    "                        ('FN', (X_test_df['y_test'] == 1) & (X_test_df['y_pred'] == 0))]:\n",
    "            merged_df = pd.merge(X_test_df[df], data, on=['snap2_score', 'Rif_distance', 'temp_factor'], how='left')\n",
    "            for mut in merged_df['mutation']:\n",
    "                mutation_stats[mut][type][label] += 1"
   ]
  },
  {
   "cell_type": "code",
   "execution_count": 402,
   "metadata": {},
   "outputs": [],
   "source": [
    "test_equal_vals = lambda d: len(set(d.values())) > 1\n",
    "\n",
    "sensitivity_discrepancy_dict = {}\n",
    "specificity_discrepancy_dict = {}\n",
    "\n",
    "for mutation, models in mutation_stats.items():\n",
    "    sensitivity_metric = {}\n",
    "    specificity_metric = {}\n",
    "    \n",
    "    for model, pred in models.items():\n",
    "        if pred['TN'] > 0 or pred['FP'] > 0:\n",
    "            specificity_metric[model] = utils.calculate_specificity(pred['TN'], pred['FP'])\n",
    "        if pred['TP'] > 0 or pred['FN'] > 0:\n",
    "            sensitivity_metric[model] = utils.calculate_sensitivity(pred['TP'], pred['FN'])\n",
    "    \n",
    "    if test_equal_vals(sensitivity_metric):\n",
    "        sensitivity_discrepancy_dict[mutation] = sensitivity_metric\n",
    "    \n",
    "    if test_equal_vals(specificity_metric):\n",
    "        specificity_discrepancy_dict[mutation] = specificity_metric\n"
   ]
  },
  {
   "cell_type": "code",
   "execution_count": 403,
   "metadata": {},
   "outputs": [
    {
     "name": "stderr",
     "output_type": "stream",
     "text": [
      "/Users/dylanadlard/Documents/Oxford/PhD/Projects/rif/predict-rifampicin-resistance/utils/utils.py:1296: UserWarning: set_ticklabels() should only be used with a fixed number of ticks, i.e. after set_ticks() or using a FixedLocator.\n",
      "  ax.set_xticklabels(mutations, rotation=90)\n",
      "/Users/dylanadlard/Documents/Oxford/PhD/Projects/rif/predict-rifampicin-resistance/utils/utils.py:1296: UserWarning: set_ticklabels() should only be used with a fixed number of ticks, i.e. after set_ticks() or using a FixedLocator.\n",
      "  ax.set_xticklabels(mutations, rotation=90)\n"
     ]
    },
    {
     "data": {
      "image/png": "[encoded data removed]",
      "text/plain": [
       "<Figure size 2000x600 with 2 Axes>"
      ]
     },
     "metadata": {},
     "output_type": "display_data"
    }
   ],
   "source": [
    "fig, axes = plt.subplots(1, 2, figsize=(20, 6), sharey=True)\n",
    "utils.plot_model_discrepancies(axes[0], sensitivity_discrepancy_dict, \"Sensitivity\")\n",
    "utils.plot_model_discrepancies(axes[1], specificity_discrepancy_dict, \"Specificity\")\n",
    "plt.tight_layout()\n",
    "plt.show()"
   ]
  },
  {
   "cell_type": "markdown",
   "metadata": {},
   "source": [
    "The models do not make the same predictions for all mutations (each repeat was under the same random seed across models)."
   ]
  },
  {
   "cell_type": "markdown",
   "metadata": {},
   "source": [
    "# Using dynamic features does not improve performance"
   ]
  },
  {
   "cell_type": "markdown",
   "metadata": {},
   "source": [
    "Does replacing features pulled dowm from the static crystal structure with corresponding features pulled down from an MD simulation improve performance. For example, we could hypothesise that the minimum observed distance from a residue to rifampicin is more predictive than the arbitrary distance captured by the crystal."
   ]
  },
  {
   "cell_type": "code",
   "execution_count": 404,
   "metadata": {},
   "outputs": [
    {
     "name": "stdout",
     "output_type": "stream",
     "text": [
      "New replaced features: ['Rif_min_distance', 'RNA_min_distance', 'snap2_score', 'temp_factor']\n"
     ]
    }
   ],
   "source": [
    "#we need to replace features from the static structure with those from the MD simluation\n",
    "static_features = data[feature_list]\n",
    "\n",
    "def get_min_column_name(col):\n",
    "    parts = col.split('_')\n",
    "    if parts[0].isupper():\n",
    "        return f\"{parts[0]}_min_{'_'.join(parts[1:])}\"\n",
    "    elif len(parts) == 2:\n",
    "        return f\"{parts[0].capitalize()}_min_{parts[1]}\"\n",
    "    elif len(parts) == 3:\n",
    "        return f\"{parts[0]}_{parts[1]}_min_{parts[2]}\"\n",
    "\n",
    "    else:\n",
    "        return f\"{parts[0].capitalize()}_min_{'_'.join(parts[1:])}\"\n",
    "\n",
    "dyn_data = pd.DataFrame()\n",
    "\n",
    "# Replace columns in static_features with corresponding min_ columns in dynamic_features\n",
    "for col in static_features.columns:\n",
    "    min_col = get_min_column_name(col)\n",
    "    if min_col in dynamic_features.columns:\n",
    "        dyn_data[min_col] = dynamic_features[min_col]\n",
    "    else:\n",
    "        dyn_data[col] = static_features[col]\n",
    "\n",
    "print ('New replaced features:', list(dyn_data.columns))"
   ]
  },
  {
   "cell_type": "markdown",
   "metadata": {},
   "source": [
    "Train on both static and dynamic features and compare performance, under the same Monte Carlo splits:\n"
   ]
  },
  {
   "cell_type": "code",
   "execution_count": 405,
   "metadata": {},
   "outputs": [],
   "source": [
    "dyn_data['phenotype'] = data['phenotype']\n",
    "dyn_static_results = {'static': [], 'dynamic': []}\n",
    "\n",
    "for seed in random_seeds:\n",
    "    # Train on data[feature_list]\n",
    "    model_data = Models(\n",
    "        {\"all\": data[features_and_label]},\n",
    "        'DT',\n",
    "        \"recall\",\n",
    "        random_seed=seed,\n",
    "        test_fraction=0.20,\n",
    "        verbose=False,\n",
    "        output_plots=False,\n",
    "    )\n",
    "    output_data = model_data.returning_output(output_plots=False)\n",
    "    dyn_static_results['static'].append(output_data)\n",
    "\n",
    "    # Train on dyn_data\n",
    "    model_dyn = Models(\n",
    "        {\"all\": dyn_data},\n",
    "        \"DT\",\n",
    "        \"recall\",\n",
    "        random_seed=seed,\n",
    "        test_fraction=0.20,\n",
    "        verbose=False,\n",
    "        output_plots=False,\n",
    "    )\n",
    "    output_dyn = model_dyn.returning_output(output_plots=False)\n",
    "    dyn_static_results['dynamic'].append(output_dyn)"
   ]
  },
  {
   "cell_type": "code",
   "execution_count": 427,
   "metadata": {},
   "outputs": [
    {
     "data": {
      "image/png": "[encoded data removed]",
      "text/plain": [
       "<Figure size 1000x500 with 1 Axes>"
      ]
     },
     "metadata": {},
     "output_type": "display_data"
    }
   ],
   "source": [
    "utils.plot_recall_specificity_with_ci(dyn_static_results, figsize=(10, 5), colors=['#fc8d62', '#6a3d9a'])"
   ]
  },
  {
   "cell_type": "markdown",
   "metadata": {},
   "source": [
    "Replacing the static features with dynamic features makes pretty much no difference (actually looks a bit worse), which perhaps isn't very surprising as the difference in distances is small."
   ]
  },
  {
   "cell_type": "markdown",
   "metadata": {},
   "source": [
    "# Can we predict phenotyps for all possible 1-snp point mutations in rpoB?"
   ]
  },
  {
   "cell_type": "code",
   "execution_count": 407,
   "metadata": {},
   "outputs": [
    {
     "name": "stderr",
     "output_type": "stream",
     "text": [
      "/Users/dylanadlard/miniforge3/envs/rif_manuscript/lib/python3.12/site-packages/Bio/SeqFeature.py:230: BiopythonDeprecationWarning: Please use .location.strand rather than .strand\n",
      "  warnings.warn(\n"
     ]
    },
    {
     "name": "stdout",
     "output_type": "stream",
     "text": [
      "\n",
      "Total number of point mutations that can be generated from a single nucleotide snp: 6970\n"
     ]
    }
   ],
   "source": [
    "aminoacids = \"FFLLSSSSYY!!CC!WLLLLPPPPHHQQRRRRIIIMTTTTNNKKSSRRVVVVAAAADDEEGGGG\"\n",
    "bases = [\"t\", \"c\", \"a\", \"g\"]\n",
    "all_codons = np.array([a + b + c for a in bases for b in bases for c in bases])\n",
    "codon_to_amino_acid = dict(zip(all_codons, aminoacids))\n",
    "\n",
    "# Function to translate nucleotide sequence to amino acid sequence\n",
    "def translate_sequence(nucleotide_seq):\n",
    "    # Ensure nucleotide_seq is a string\n",
    "    nucleotide_seq = ''.join(nucleotide_seq)\n",
    "    codons = [nucleotide_seq[i:i+3] for i in range(0, len(nucleotide_seq), 3)]\n",
    "    aa_seq = ''.join([codon_to_amino_acid.get(codon, 'X') for codon in codons])\n",
    "    return aa_seq\n",
    "\n",
    "#instantiate gumpy object\n",
    "gene_name = \"rpoB\"\n",
    "genbank_file = \"./data/genetic/NC_000962.gbk\"\n",
    "genome = gumpy.Genome(genbank_file)\n",
    "gene = genome.build_gene(gene_name)\n",
    "\n",
    "#create wt nucleotide and aa sequences\n",
    "original_nucleotide_seq = ''.join(gene.codons)\n",
    "original_nucleotide_seq = 'a' + original_nucleotide_seq[1:] #gumpy gets the first nucleotide wrong for some reason\n",
    "original_aa_seq = translate_sequence(original_nucleotide_seq)\n",
    "mutations = []\n",
    "\n",
    "# Iterate over each nucleotide position and generate mutants\n",
    "for i, original_base in enumerate(original_nucleotide_seq):\n",
    "    for new_base in \"tcag\":\n",
    "        if new_base != original_base:\n",
    "            mutated_nucleotide_seq = [i for i in original_nucleotide_seq]\n",
    "            mutated_nucleotide_seq[i] = new_base\n",
    "            mutant_aa_seq = translate_sequence(mutated_nucleotide_seq)\n",
    "\n",
    "            if mutant_aa_seq != original_aa_seq:\n",
    "                original_codon_index = i // 3\n",
    "                original_aa = original_aa_seq[original_codon_index]\n",
    "                mutated_aa = mutant_aa_seq[original_codon_index]\n",
    "                \n",
    "                if mutated_aa != original_aa and mutated_aa != \"!\":\n",
    "                    mutation_format = f\"{original_aa}{original_codon_index + 1}{mutated_aa}\"\n",
    "                    mutations.append(mutation_format)\n",
    "\n",
    "mutations = list(set(mutations))\n",
    "\n",
    "print ('\\nTotal number of point mutations that can be generated from a single nucleotide snp:', len(mutations))"
   ]
  },
  {
   "cell_type": "markdown",
   "metadata": {},
   "source": [
    "We need to build a feature set for these mutations:"
   ]
  },
  {
   "cell_type": "code",
   "execution_count": 408,
   "metadata": {},
   "outputs": [
    {
     "name": "stderr",
     "output_type": "stream",
     "text": [
      "/Users/dylanadlard/miniforge3/envs/rif_manuscript/lib/python3.12/site-packages/sbmlcore/ExternalCode.py:313: FutureWarning: A value is trying to be set on a copy of a DataFrame or Series through chained assignment using an inplace method.\n",
      "The behavior will change in pandas 3.0. This inplace method will never work because the intermediate object on which we are setting values always behaves as a copy.\n",
      "\n",
      "For example, when doing 'df[col].method(value, inplace=True)', try using 'df.method({col: value}, inplace=True)' or df[col] = df[col].method(value) instead, to perform the operation inplace on the original object.\n",
      "\n",
      "\n",
      "  snap2_df['Expected Accuracy'].replace(to_replace='%', value='', regex=True, inplace=True)\n"
     ]
    }
   ],
   "source": [
    "scan_df = pd.DataFrame(mutations, columns=['mutation'])\n",
    "scan_df['resid'] = [int(i[1:-1]) for i in scan_df.mutation]\n",
    "scan_df['segid'] = 'C'\n",
    "\n",
    "#filter out residues attenuated from pdf file\n",
    "scan_df = scan_df[(scan_df['resid']>=22) & (scan_df ['resid']<=1147)]\n",
    "\n",
    "scan_df = utils.generate_feature_set(scan_df)\n"
   ]
  },
  {
   "cell_type": "markdown",
   "metadata": {},
   "source": [
    "We can train our model on the entire training set (of solos) to maximise training data.\n",
    "\n",
    "We will also use the ensemble model to maximise sensitivity, so even low confidence RAVs are flagged."
   ]
  },
  {
   "cell_type": "code",
   "execution_count": 409,
   "metadata": {},
   "outputs": [
    {
     "name": "stderr",
     "output_type": "stream",
     "text": [
      "/Users/dylanadlard/miniforge3/envs/rif_manuscript/lib/python3.12/site-packages/sklearn/base.py:458: UserWarning: X has feature names, but DecisionTreeClassifier was fitted without feature names\n",
      "  warnings.warn(\n"
     ]
    }
   ],
   "source": [
    "outputs = {}\n",
    "\n",
    "mut_predict = {}\n",
    "y = []\n",
    "    \n",
    "model = Models(\n",
    "    {\"all\": data[features_and_label]},\n",
    "    'DT',\n",
    "    \"recall\",\n",
    "    random_seed=seed,\n",
    "    test_fraction=0.2,\n",
    "    sample_ids={'all': data.mutation},\n",
    "    verbose=False,\n",
    "    output_plots=False,\n",
    ")\n",
    "\n",
    "X_train, y_train = model.X_train_nd[\"all\"], model.y_train_nd[\"all\"]\n",
    "est, thresh = model.opt_estimator, model.opt_threshold\n",
    "\n",
    "# Retrain the model on the entire training data\n",
    "est.fit(X_train, y_train)\n",
    "\n",
    "# Prepare the scan_df feature set\n",
    "X_scan = scan_df[feature_list]\n",
    "\n",
    "# Predict phenotypes for the scan_df feature set\n",
    "scan_predictions = (est.predict_proba(X_scan)[:, 1] >= thresh).astype(int)\n",
    "\n",
    "scan_df['phenotype'] = scan_predictions"
   ]
  },
  {
   "cell_type": "code",
   "execution_count": 410,
   "metadata": {},
   "outputs": [
    {
     "name": "stderr",
     "output_type": "stream",
     "text": [
      "/Users/dylanadlard/miniforge3/envs/rif_manuscript/lib/python3.12/site-packages/MDAnalysis/coordinates/PDB.py:1153: UserWarning: Found no information for attr: 'formalcharges' Using default value of '0'\n",
      "  warnings.warn(\"Found no information for attr: '{}'\"\n",
      "/Users/dylanadlard/miniforge3/envs/rif_manuscript/lib/python3.12/site-packages/MDAnalysis/coordinates/PDB.py:1153: UserWarning: Found no information for attr: 'formalcharges' Using default value of '0'\n",
      "  warnings.warn(\"Found no information for attr: '{}'\"\n"
     ]
    }
   ],
   "source": [
    "#now map these phenotypes onto a structure of RNAP\n",
    "utils.map_mut2pdb(scan_df, './data/pdb/5uh6.pdb', './data/pdb/mutate_every_pos.pdb', phenotypes=True)"
   ]
  },
  {
   "cell_type": "code",
   "execution_count": 411,
   "metadata": {},
   "outputs": [
    {
     "data": {
      "text/plain": [
       "phenotype\n",
       "0    6526\n",
       "1     161\n",
       "Name: count, dtype: int64"
      ]
     },
     "execution_count": 411,
     "metadata": {},
     "output_type": "execute_result"
    }
   ],
   "source": [
    "scan_df.phenotype.value_counts()"
   ]
  },
  {
   "cell_type": "code",
   "execution_count": 412,
   "metadata": {},
   "outputs": [
    {
     "data": {
      "text/plain": [
       "1110"
      ]
     },
     "execution_count": 412,
     "metadata": {},
     "output_type": "execute_result"
    }
   ],
   "source": [
    "scan_df[scan_df.phenotype==0].resid.nunique()"
   ]
  },
  {
   "cell_type": "markdown",
   "metadata": {},
   "source": [
    "--------------------\n",
    "\n",
    "Plonk final figure here of mapped predictions onto RpoB structure\n",
    "\n",
    "--------------------"
   ]
  },
  {
   "cell_type": "code",
   "execution_count": 413,
   "metadata": {},
   "outputs": [
    {
     "data": {
      "text/plain": [
       "['Rif_distance', 'RNA_distance', 'snap2_score', 'temp_factor']"
      ]
     },
     "execution_count": 413,
     "metadata": {},
     "output_type": "execute_result"
    }
   ],
   "source": [
    "feature_list"
   ]
  },
  {
   "cell_type": "code",
   "execution_count": null,
   "metadata": {},
   "outputs": [],
   "source": []
  },
  {
   "cell_type": "code",
   "execution_count": null,
   "metadata": {},
   "outputs": [],
   "source": []
  },
  {
   "cell_type": "code",
   "execution_count": null,
   "metadata": {},
   "outputs": [],
   "source": []
  },
  {
   "cell_type": "markdown",
   "metadata": {},
   "source": [
    "# Can we validate on external samples - theres something here, just go back and check last few cells of methods.ipynb and reconsider filtering steps below - if we keep samples with susceptible rows in the training data we might have enough R samples to validate"
   ]
  },
  {
   "cell_type": "markdown",
   "metadata": {},
   "source": [
    "The dataset on which the model is trained was generated by looking for solos across the rpoB gene. Therefore samples with more than 1 mutation were discarded, which leaves a potentially large pool of samples we can validate our model on.\n",
    "\n",
    "However, the model only predicts the effect of a mutation in isolation. But we can predict phenotyupes for each mutation in turn, and then use a heuristic to decide the final phenotype.\n",
    "\n",
    "If a sample contains at least one mutation predicted resistant, then a resistant phenotype is called."
   ]
  },
  {
   "cell_type": "code",
   "execution_count": 414,
   "metadata": {},
   "outputs": [
    {
     "name": "stderr",
     "output_type": "stream",
     "text": [
      "/var/folders/s5/pshvb2093574r5hqnwcy6klw0000gn/T/ipykernel_68221/4143293184.py:15: SettingWithCopyWarning: \n",
      "A value is trying to be set on a copy of a slice from a DataFrame\n",
      "\n",
      "See the caveats in the documentation: https://pandas.pydata.org/pandas-docs/stable/user_guide/indexing.html#returning-a-view-versus-a-copy\n",
      "  ext_val.dropna(subset='MUTATION', inplace=True)\n"
     ]
    },
    {
     "data": {
      "text/html": [
       "<div>\n",
       "<style scoped>\n",
       "    .dataframe tbody tr th:only-of-type {\n",
       "        vertical-align: middle;\n",
       "    }\n",
       "\n",
       "    .dataframe tbody tr th {\n",
       "        vertical-align: top;\n",
       "    }\n",
       "\n",
       "    .dataframe thead th {\n",
       "        text-align: right;\n",
       "    }\n",
       "</style>\n",
       "<table border=\"1\" class=\"dataframe\">\n",
       "  <thead>\n",
       "    <tr style=\"text-align: right;\">\n",
       "      <th></th>\n",
       "      <th>UNIQUEID</th>\n",
       "      <th>phenotype</th>\n",
       "      <th>mutation</th>\n",
       "    </tr>\n",
       "  </thead>\n",
       "  <tbody>\n",
       "    <tr>\n",
       "      <th>8</th>\n",
       "      <td>site.01.subj.DR0613.lab.DR0613.iso.1</td>\n",
       "      <td>R</td>\n",
       "      <td>T400A</td>\n",
       "    </tr>\n",
       "    <tr>\n",
       "      <th>9</th>\n",
       "      <td>site.01.subj.DR0613.lab.DR0613.iso.1</td>\n",
       "      <td>R</td>\n",
       "      <td>S450L</td>\n",
       "    </tr>\n",
       "    <tr>\n",
       "      <th>16</th>\n",
       "      <td>site.01.subj.DR0031.lab.DR0031.iso.1</td>\n",
       "      <td>R</td>\n",
       "      <td>S450L</td>\n",
       "    </tr>\n",
       "    <tr>\n",
       "      <th>17</th>\n",
       "      <td>site.01.subj.DR0031.lab.DR0031.iso.1</td>\n",
       "      <td>R</td>\n",
       "      <td>R552C</td>\n",
       "    </tr>\n",
       "    <tr>\n",
       "      <th>26</th>\n",
       "      <td>site.01.subj.DR0701.lab.DR0701.iso.1</td>\n",
       "      <td>R</td>\n",
       "      <td>S450L</td>\n",
       "    </tr>\n",
       "    <tr>\n",
       "      <th>...</th>\n",
       "      <td>...</td>\n",
       "      <td>...</td>\n",
       "      <td>...</td>\n",
       "    </tr>\n",
       "    <tr>\n",
       "      <th>36416</th>\n",
       "      <td>site.07.subj.CEF46D15-8E0D-4114-9B5D-92E1CB475...</td>\n",
       "      <td>R</td>\n",
       "      <td>H835R</td>\n",
       "    </tr>\n",
       "    <tr>\n",
       "      <th>36778</th>\n",
       "      <td>site.07.subj.FD_127_2698.lab.15_0601041.iso.1</td>\n",
       "      <td>S</td>\n",
       "      <td>D435Y</td>\n",
       "    </tr>\n",
       "    <tr>\n",
       "      <th>36779</th>\n",
       "      <td>site.07.subj.FD_127_2698.lab.15_0601041.iso.1</td>\n",
       "      <td>S</td>\n",
       "      <td>N437D</td>\n",
       "    </tr>\n",
       "    <tr>\n",
       "      <th>37101</th>\n",
       "      <td>site.07.subj.1EBDBB4E-4189-43DC-BBEE-3F908EAEC...</td>\n",
       "      <td>R</td>\n",
       "      <td>S450L</td>\n",
       "    </tr>\n",
       "    <tr>\n",
       "      <th>37102</th>\n",
       "      <td>site.07.subj.1EBDBB4E-4189-43DC-BBEE-3F908EAEC...</td>\n",
       "      <td>R</td>\n",
       "      <td>A596G</td>\n",
       "    </tr>\n",
       "  </tbody>\n",
       "</table>\n",
       "<p>2942 rows × 3 columns</p>\n",
       "</div>"
      ],
      "text/plain": [
       "                                                UNIQUEID phenotype mutation\n",
       "8                   site.01.subj.DR0613.lab.DR0613.iso.1         R    T400A\n",
       "9                   site.01.subj.DR0613.lab.DR0613.iso.1         R    S450L\n",
       "16                  site.01.subj.DR0031.lab.DR0031.iso.1         R    S450L\n",
       "17                  site.01.subj.DR0031.lab.DR0031.iso.1         R    R552C\n",
       "26                  site.01.subj.DR0701.lab.DR0701.iso.1         R    S450L\n",
       "...                                                  ...       ...      ...\n",
       "36416  site.07.subj.CEF46D15-8E0D-4114-9B5D-92E1CB475...         R    H835R\n",
       "36778      site.07.subj.FD_127_2698.lab.15_0601041.iso.1         S    D435Y\n",
       "36779      site.07.subj.FD_127_2698.lab.15_0601041.iso.1         S    N437D\n",
       "37101  site.07.subj.1EBDBB4E-4189-43DC-BBEE-3F908EAEC...         R    S450L\n",
       "37102  site.07.subj.1EBDBB4E-4189-43DC-BBEE-3F908EAEC...         R    A596G\n",
       "\n",
       "[2942 rows x 3 columns]"
      ]
     },
     "execution_count": 414,
     "metadata": {},
     "output_type": "execute_result"
    }
   ],
   "source": [
    "#load in catalogue used to generate training set and pull out sample ids\n",
    "catalogue = pd.read_csv('./data/tables/generated/catalogue.csv', index_col=0)\n",
    "catalogue['EVIDENCE'] = catalogue['EVIDENCE'].apply(utils.str_to_dict)\n",
    "\n",
    "ids = []\n",
    "for i in catalogue.EVIDENCE:\n",
    "    if 'seeded' not in i and len(i)>0 and 'ids' in i[0] :\n",
    "        ids += i[0]['ids']\n",
    "\n",
    "#read in all samples and their mutations\n",
    "all_matched = pd.read_csv('./data/tables/generated/all_matched.csv', index_col=0, low_memory=False)\n",
    "#remove ids used in the training set from the wider dataset\n",
    "ext_val = all_matched[~all_matched.UNIQUEID.isin(ids)]\n",
    "#drop rpoB WT rows, as a bit pointless validating them\n",
    "ext_val.dropna(subset='MUTATION', inplace=True)\n",
    "#drop samples containing promoter mutations, indels, or premature stops as our model can't handle these\n",
    "samples_to_drop = ext_val[ext_val['MUTATION'].str.contains(r'_|\\!|\\*|-')].UNIQUEID.unique()\n",
    "ext_val = ext_val[~ext_val.UNIQUEID.isin(samples_to_drop)]\n",
    "\n",
    "#also have to drop samples contianing mutations outside the pdb region\n",
    "ext_val['resid'] = [int(i[1:-1]) for i in ext_val.MUTATION]\n",
    "ext_val = ext_val[(ext_val['resid']>=22) & (ext_val['resid']<=1147)]\n",
    "\n",
    "ext_val = ext_val[['UNIQUEID', 'PHENOTYPE', 'MUTATION']].rename(columns={'PHENOTYPE':'phenotype', 'MUTATION':'mutation'})\n",
    "ext_val"
   ]
  },
  {
   "cell_type": "code",
   "execution_count": 415,
   "metadata": {},
   "outputs": [
    {
     "name": "stderr",
     "output_type": "stream",
     "text": [
      "/Users/dylanadlard/miniforge3/envs/rif_manuscript/lib/python3.12/site-packages/sbmlcore/ExternalCode.py:313: FutureWarning: A value is trying to be set on a copy of a DataFrame or Series through chained assignment using an inplace method.\n",
      "The behavior will change in pandas 3.0. This inplace method will never work because the intermediate object on which we are setting values always behaves as a copy.\n",
      "\n",
      "For example, when doing 'df[col].method(value, inplace=True)', try using 'df.method({col: value}, inplace=True)' or df[col] = df[col].method(value) instead, to perform the operation inplace on the original object.\n",
      "\n",
      "\n",
      "  snap2_df['Expected Accuracy'].replace(to_replace='%', value='', regex=True, inplace=True)\n"
     ]
    }
   ],
   "source": [
    "#pull out unique mutations and run them through sbmlcore to generate validation feature set\n",
    "val_muts = ext_val.drop_duplicates('mutation', keep='first')[['mutation']]\n",
    "val_muts['resid'] = [i[1:-1] for i in val_muts.mutation]\n",
    "val_muts['segid'] = 'C'\n",
    "#generate feature set - this uses the exact same code as described in methods.ipynb (saving space)    \n",
    "val_muts = utils.generate_feature_set(val_muts)"
   ]
  },
  {
   "cell_type": "code",
   "execution_count": 416,
   "metadata": {},
   "outputs": [
    {
     "data": {
      "text/html": [
       "<div>\n",
       "<style scoped>\n",
       "    .dataframe tbody tr th:only-of-type {\n",
       "        vertical-align: middle;\n",
       "    }\n",
       "\n",
       "    .dataframe tbody tr th {\n",
       "        vertical-align: top;\n",
       "    }\n",
       "\n",
       "    .dataframe thead th {\n",
       "        text-align: right;\n",
       "    }\n",
       "</style>\n",
       "<table border=\"1\" class=\"dataframe\">\n",
       "  <thead>\n",
       "    <tr style=\"text-align: right;\">\n",
       "      <th></th>\n",
       "      <th>UNIQUEID</th>\n",
       "      <th>phenotype</th>\n",
       "      <th>mutation</th>\n",
       "      <th>segid</th>\n",
       "      <th>resid</th>\n",
       "      <th>d_volume</th>\n",
       "      <th>d_hydropathy_KD</th>\n",
       "      <th>d_MW</th>\n",
       "      <th>d_pi</th>\n",
       "      <th>d_rogov</th>\n",
       "      <th>...</th>\n",
       "      <th>Rif_min_distance</th>\n",
       "      <th>Mg_min_distance</th>\n",
       "      <th>Zn1_min_distance</th>\n",
       "      <th>Zn2_min_distance</th>\n",
       "      <th>antisense_P_min_distance</th>\n",
       "      <th>RNA_min_distance</th>\n",
       "      <th>mean_phi</th>\n",
       "      <th>mean_psi</th>\n",
       "      <th>secondary_structure</th>\n",
       "      <th>mut_prediction</th>\n",
       "    </tr>\n",
       "  </thead>\n",
       "  <tbody>\n",
       "    <tr>\n",
       "      <th>0</th>\n",
       "      <td>site.01.subj.DR0613.lab.DR0613.iso.1</td>\n",
       "      <td>R</td>\n",
       "      <td>T400A</td>\n",
       "      <td>C</td>\n",
       "      <td>400</td>\n",
       "      <td>-27.5</td>\n",
       "      <td>2.5</td>\n",
       "      <td>-30.0</td>\n",
       "      <td>0.40</td>\n",
       "      <td>0.248</td>\n",
       "      <td>...</td>\n",
       "      <td>45.207705</td>\n",
       "      <td>66.687726</td>\n",
       "      <td>80.914137</td>\n",
       "      <td>43.660462</td>\n",
       "      <td>47.301019</td>\n",
       "      <td>59.315231</td>\n",
       "      <td>-102.270270</td>\n",
       "      <td>5.365811</td>\n",
       "      <td>0</td>\n",
       "      <td>0</td>\n",
       "    </tr>\n",
       "    <tr>\n",
       "      <th>1</th>\n",
       "      <td>site.01.subj.DR0613.lab.DR0613.iso.1</td>\n",
       "      <td>R</td>\n",
       "      <td>S450L</td>\n",
       "      <td>C</td>\n",
       "      <td>450</td>\n",
       "      <td>77.7</td>\n",
       "      <td>4.6</td>\n",
       "      <td>26.1</td>\n",
       "      <td>0.30</td>\n",
       "      <td>0.015</td>\n",
       "      <td>...</td>\n",
       "      <td>9.498353</td>\n",
       "      <td>26.483208</td>\n",
       "      <td>54.622316</td>\n",
       "      <td>59.606831</td>\n",
       "      <td>18.179579</td>\n",
       "      <td>20.826102</td>\n",
       "      <td>-139.700114</td>\n",
       "      <td>145.935434</td>\n",
       "      <td>1</td>\n",
       "      <td>1</td>\n",
       "    </tr>\n",
       "    <tr>\n",
       "      <th>2</th>\n",
       "      <td>site.01.subj.DR0031.lab.DR0031.iso.1</td>\n",
       "      <td>R</td>\n",
       "      <td>S450L</td>\n",
       "      <td>C</td>\n",
       "      <td>450</td>\n",
       "      <td>77.7</td>\n",
       "      <td>4.6</td>\n",
       "      <td>26.1</td>\n",
       "      <td>0.30</td>\n",
       "      <td>0.015</td>\n",
       "      <td>...</td>\n",
       "      <td>9.498353</td>\n",
       "      <td>26.483208</td>\n",
       "      <td>54.622316</td>\n",
       "      <td>59.606831</td>\n",
       "      <td>18.179579</td>\n",
       "      <td>20.826102</td>\n",
       "      <td>-139.700114</td>\n",
       "      <td>145.935434</td>\n",
       "      <td>1</td>\n",
       "      <td>1</td>\n",
       "    </tr>\n",
       "    <tr>\n",
       "      <th>3</th>\n",
       "      <td>site.01.subj.DR0031.lab.DR0031.iso.1</td>\n",
       "      <td>R</td>\n",
       "      <td>R552C</td>\n",
       "      <td>C</td>\n",
       "      <td>552</td>\n",
       "      <td>-64.9</td>\n",
       "      <td>7.0</td>\n",
       "      <td>-53.0</td>\n",
       "      <td>-5.69</td>\n",
       "      <td>-0.392</td>\n",
       "      <td>...</td>\n",
       "      <td>41.401189</td>\n",
       "      <td>39.060666</td>\n",
       "      <td>68.279127</td>\n",
       "      <td>96.372134</td>\n",
       "      <td>47.108089</td>\n",
       "      <td>41.116181</td>\n",
       "      <td>-137.700124</td>\n",
       "      <td>149.323828</td>\n",
       "      <td>2</td>\n",
       "      <td>0</td>\n",
       "    </tr>\n",
       "    <tr>\n",
       "      <th>4</th>\n",
       "      <td>site.01.subj.DR0701.lab.DR0701.iso.1</td>\n",
       "      <td>R</td>\n",
       "      <td>S450L</td>\n",
       "      <td>C</td>\n",
       "      <td>450</td>\n",
       "      <td>77.7</td>\n",
       "      <td>4.6</td>\n",
       "      <td>26.1</td>\n",
       "      <td>0.30</td>\n",
       "      <td>0.015</td>\n",
       "      <td>...</td>\n",
       "      <td>9.498353</td>\n",
       "      <td>26.483208</td>\n",
       "      <td>54.622316</td>\n",
       "      <td>59.606831</td>\n",
       "      <td>18.179579</td>\n",
       "      <td>20.826102</td>\n",
       "      <td>-139.700114</td>\n",
       "      <td>145.935434</td>\n",
       "      <td>1</td>\n",
       "      <td>1</td>\n",
       "    </tr>\n",
       "    <tr>\n",
       "      <th>...</th>\n",
       "      <td>...</td>\n",
       "      <td>...</td>\n",
       "      <td>...</td>\n",
       "      <td>...</td>\n",
       "      <td>...</td>\n",
       "      <td>...</td>\n",
       "      <td>...</td>\n",
       "      <td>...</td>\n",
       "      <td>...</td>\n",
       "      <td>...</td>\n",
       "      <td>...</td>\n",
       "      <td>...</td>\n",
       "      <td>...</td>\n",
       "      <td>...</td>\n",
       "      <td>...</td>\n",
       "      <td>...</td>\n",
       "      <td>...</td>\n",
       "      <td>...</td>\n",
       "      <td>...</td>\n",
       "      <td>...</td>\n",
       "      <td>...</td>\n",
       "    </tr>\n",
       "    <tr>\n",
       "      <th>2937</th>\n",
       "      <td>site.07.subj.CEF46D15-8E0D-4114-9B5D-92E1CB475...</td>\n",
       "      <td>R</td>\n",
       "      <td>H835R</td>\n",
       "      <td>C</td>\n",
       "      <td>835</td>\n",
       "      <td>20.2</td>\n",
       "      <td>-1.3</td>\n",
       "      <td>19.0</td>\n",
       "      <td>3.17</td>\n",
       "      <td>0.084</td>\n",
       "      <td>...</td>\n",
       "      <td>19.131771</td>\n",
       "      <td>25.758857</td>\n",
       "      <td>52.198014</td>\n",
       "      <td>38.717617</td>\n",
       "      <td>29.857503</td>\n",
       "      <td>21.469210</td>\n",
       "      <td>-57.831970</td>\n",
       "      <td>125.835094</td>\n",
       "      <td>2</td>\n",
       "      <td>0</td>\n",
       "    </tr>\n",
       "    <tr>\n",
       "      <th>2938</th>\n",
       "      <td>site.07.subj.FD_127_2698.lab.15_0601041.iso.1</td>\n",
       "      <td>S</td>\n",
       "      <td>D435Y</td>\n",
       "      <td>C</td>\n",
       "      <td>435</td>\n",
       "      <td>82.5</td>\n",
       "      <td>2.2</td>\n",
       "      <td>48.1</td>\n",
       "      <td>2.89</td>\n",
       "      <td>-0.203</td>\n",
       "      <td>...</td>\n",
       "      <td>6.468814</td>\n",
       "      <td>22.288308</td>\n",
       "      <td>59.593582</td>\n",
       "      <td>55.415774</td>\n",
       "      <td>25.099054</td>\n",
       "      <td>16.643368</td>\n",
       "      <td>-69.581912</td>\n",
       "      <td>114.653556</td>\n",
       "      <td>3</td>\n",
       "      <td>1</td>\n",
       "    </tr>\n",
       "    <tr>\n",
       "      <th>2939</th>\n",
       "      <td>site.07.subj.FD_127_2698.lab.15_0601041.iso.1</td>\n",
       "      <td>S</td>\n",
       "      <td>N437D</td>\n",
       "      <td>C</td>\n",
       "      <td>437</td>\n",
       "      <td>-3.0</td>\n",
       "      <td>0.0</td>\n",
       "      <td>1.0</td>\n",
       "      <td>-2.64</td>\n",
       "      <td>0.329</td>\n",
       "      <td>...</td>\n",
       "      <td>8.421723</td>\n",
       "      <td>20.565320</td>\n",
       "      <td>61.132681</td>\n",
       "      <td>57.013145</td>\n",
       "      <td>29.478868</td>\n",
       "      <td>16.287938</td>\n",
       "      <td>-63.951580</td>\n",
       "      <td>-41.337900</td>\n",
       "      <td>2</td>\n",
       "      <td>0</td>\n",
       "    </tr>\n",
       "    <tr>\n",
       "      <th>2940</th>\n",
       "      <td>site.07.subj.1EBDBB4E-4189-43DC-BBEE-3F908EAEC...</td>\n",
       "      <td>R</td>\n",
       "      <td>S450L</td>\n",
       "      <td>C</td>\n",
       "      <td>450</td>\n",
       "      <td>77.7</td>\n",
       "      <td>4.6</td>\n",
       "      <td>26.1</td>\n",
       "      <td>0.30</td>\n",
       "      <td>0.015</td>\n",
       "      <td>...</td>\n",
       "      <td>9.498353</td>\n",
       "      <td>26.483208</td>\n",
       "      <td>54.622316</td>\n",
       "      <td>59.606831</td>\n",
       "      <td>18.179579</td>\n",
       "      <td>20.826102</td>\n",
       "      <td>-139.700114</td>\n",
       "      <td>145.935434</td>\n",
       "      <td>1</td>\n",
       "      <td>1</td>\n",
       "    </tr>\n",
       "    <tr>\n",
       "      <th>2941</th>\n",
       "      <td>site.07.subj.1EBDBB4E-4189-43DC-BBEE-3F908EAEC...</td>\n",
       "      <td>R</td>\n",
       "      <td>A596G</td>\n",
       "      <td>C</td>\n",
       "      <td>596</td>\n",
       "      <td>-28.5</td>\n",
       "      <td>-2.2</td>\n",
       "      <td>-14.0</td>\n",
       "      <td>-0.03</td>\n",
       "      <td>-0.023</td>\n",
       "      <td>...</td>\n",
       "      <td>19.288341</td>\n",
       "      <td>14.859739</td>\n",
       "      <td>52.124263</td>\n",
       "      <td>73.345740</td>\n",
       "      <td>27.704090</td>\n",
       "      <td>15.426653</td>\n",
       "      <td>-58.282096</td>\n",
       "      <td>-27.681496</td>\n",
       "      <td>0</td>\n",
       "      <td>0</td>\n",
       "    </tr>\n",
       "  </tbody>\n",
       "</table>\n",
       "<p>2942 rows × 36 columns</p>\n",
       "</div>"
      ],
      "text/plain": [
       "                                               UNIQUEID phenotype mutation  \\\n",
       "0                  site.01.subj.DR0613.lab.DR0613.iso.1         R    T400A   \n",
       "1                  site.01.subj.DR0613.lab.DR0613.iso.1         R    S450L   \n",
       "2                  site.01.subj.DR0031.lab.DR0031.iso.1         R    S450L   \n",
       "3                  site.01.subj.DR0031.lab.DR0031.iso.1         R    R552C   \n",
       "4                  site.01.subj.DR0701.lab.DR0701.iso.1         R    S450L   \n",
       "...                                                 ...       ...      ...   \n",
       "2937  site.07.subj.CEF46D15-8E0D-4114-9B5D-92E1CB475...         R    H835R   \n",
       "2938      site.07.subj.FD_127_2698.lab.15_0601041.iso.1         S    D435Y   \n",
       "2939      site.07.subj.FD_127_2698.lab.15_0601041.iso.1         S    N437D   \n",
       "2940  site.07.subj.1EBDBB4E-4189-43DC-BBEE-3F908EAEC...         R    S450L   \n",
       "2941  site.07.subj.1EBDBB4E-4189-43DC-BBEE-3F908EAEC...         R    A596G   \n",
       "\n",
       "     segid  resid  d_volume  d_hydropathy_KD  d_MW  d_pi  d_rogov  ...  \\\n",
       "0        C    400     -27.5              2.5 -30.0  0.40    0.248  ...   \n",
       "1        C    450      77.7              4.6  26.1  0.30    0.015  ...   \n",
       "2        C    450      77.7              4.6  26.1  0.30    0.015  ...   \n",
       "3        C    552     -64.9              7.0 -53.0 -5.69   -0.392  ...   \n",
       "4        C    450      77.7              4.6  26.1  0.30    0.015  ...   \n",
       "...    ...    ...       ...              ...   ...   ...      ...  ...   \n",
       "2937     C    835      20.2             -1.3  19.0  3.17    0.084  ...   \n",
       "2938     C    435      82.5              2.2  48.1  2.89   -0.203  ...   \n",
       "2939     C    437      -3.0              0.0   1.0 -2.64    0.329  ...   \n",
       "2940     C    450      77.7              4.6  26.1  0.30    0.015  ...   \n",
       "2941     C    596     -28.5             -2.2 -14.0 -0.03   -0.023  ...   \n",
       "\n",
       "      Rif_min_distance  Mg_min_distance  Zn1_min_distance  Zn2_min_distance  \\\n",
       "0            45.207705        66.687726         80.914137         43.660462   \n",
       "1             9.498353        26.483208         54.622316         59.606831   \n",
       "2             9.498353        26.483208         54.622316         59.606831   \n",
       "3            41.401189        39.060666         68.279127         96.372134   \n",
       "4             9.498353        26.483208         54.622316         59.606831   \n",
       "...                ...              ...               ...               ...   \n",
       "2937         19.131771        25.758857         52.198014         38.717617   \n",
       "2938          6.468814        22.288308         59.593582         55.415774   \n",
       "2939          8.421723        20.565320         61.132681         57.013145   \n",
       "2940          9.498353        26.483208         54.622316         59.606831   \n",
       "2941         19.288341        14.859739         52.124263         73.345740   \n",
       "\n",
       "      antisense_P_min_distance  RNA_min_distance    mean_phi    mean_psi  \\\n",
       "0                    47.301019         59.315231 -102.270270    5.365811   \n",
       "1                    18.179579         20.826102 -139.700114  145.935434   \n",
       "2                    18.179579         20.826102 -139.700114  145.935434   \n",
       "3                    47.108089         41.116181 -137.700124  149.323828   \n",
       "4                    18.179579         20.826102 -139.700114  145.935434   \n",
       "...                        ...               ...         ...         ...   \n",
       "2937                 29.857503         21.469210  -57.831970  125.835094   \n",
       "2938                 25.099054         16.643368  -69.581912  114.653556   \n",
       "2939                 29.478868         16.287938  -63.951580  -41.337900   \n",
       "2940                 18.179579         20.826102 -139.700114  145.935434   \n",
       "2941                 27.704090         15.426653  -58.282096  -27.681496   \n",
       "\n",
       "      secondary_structure  mut_prediction  \n",
       "0                       0               0  \n",
       "1                       1               1  \n",
       "2                       1               1  \n",
       "3                       2               0  \n",
       "4                       1               1  \n",
       "...                   ...             ...  \n",
       "2937                    2               0  \n",
       "2938                    3               1  \n",
       "2939                    2               0  \n",
       "2940                    1               1  \n",
       "2941                    0               0  \n",
       "\n",
       "[2942 rows x 36 columns]"
      ]
     },
     "execution_count": 416,
     "metadata": {},
     "output_type": "execute_result"
    }
   ],
   "source": [
    "#use ml-models to determine the best model and threshold on the training set\n",
    "feature_list.append('phenotype')\n",
    "opt_model = Models(\n",
    "        {\"all\": data[feature_list]},\n",
    "        'DT',\n",
    "        \"recall\",\n",
    "        random_seed=seed,\n",
    "        test_fraction=0.1,\n",
    "        verbose=False,\n",
    "        output_plots=False,\n",
    "    )\n",
    "\n",
    "model = opt_model.opt_estimator\n",
    "threshold = opt_model.opt_threshold\n",
    "\n",
    "X = data[feature_list].drop(columns=['phenotype'])\n",
    "y = data['phenotype']\n",
    "#retrain the model on the entire training set (ml-models does a mandatory data split, which we need to hack around)\n",
    "model = model.fit(X, y)\n",
    "\n",
    "#predict effect on rifampicin resistance for each unique mutation in the validation set\n",
    "columns = [i for i in feature_list if i != 'phenotype']\n",
    "predictions = model.predict(val_muts[columns])\n",
    "\n",
    "val_muts['mut_prediction'] = predictions\n",
    "\n",
    "#merge sample validation set and mutation validation set\n",
    "ext_val = pd.merge(ext_val, val_muts, on='mutation', how='left')\n",
    "ext_val\n"
   ]
  },
  {
   "cell_type": "code",
   "execution_count": 417,
   "metadata": {},
   "outputs": [],
   "source": [
    "label, y = [], []\n",
    "\n",
    "ids = ext_val.UNIQUEID.unique()\n",
    "for id in ids:\n",
    "    sample = ext_val[ext_val.UNIQUEID == id]\n",
    "    label.append(1 if sample['phenotype'].iloc[0] == 'R' else 0)\n",
    "    y.append(1 if 1 in sample['mut_prediction'].values else 0)\n",
    "\n",
    "tn, fp, fn, tp = confusion_matrix(label, y).ravel()\n",
    "\n",
    "# Calculate sensitivity and specificity\n",
    "sensitivity = tp / (tp + fn)\n",
    "specificity = tn / (tn + fp)\n"
   ]
  },
  {
   "cell_type": "code",
   "execution_count": 418,
   "metadata": {},
   "outputs": [
    {
     "data": {
      "text/plain": [
       "0.998551774076756"
      ]
     },
     "execution_count": 418,
     "metadata": {},
     "output_type": "execute_result"
    }
   ],
   "source": [
    "sensitivity"
   ]
  },
  {
   "cell_type": "code",
   "execution_count": 419,
   "metadata": {},
   "outputs": [
    {
     "name": "stdout",
     "output_type": "stream",
     "text": [
      "Sensitivity: 0.998551774076756\n",
      "Specificity: 0.0\n"
     ]
    }
   ],
   "source": [
    "print ('Sensitivity:', sensitivity)\n",
    "print ('Specificity:', specificity)"
   ]
  },
  {
   "cell_type": "markdown",
   "metadata": {},
   "source": [
    " The reason we basically have no ssuceptible samples in our validation set is becuase we've used most susceptible samples in the catalogue - the one tailed test captures everything:"
   ]
  },
  {
   "cell_type": "code",
   "execution_count": 420,
   "metadata": {},
   "outputs": [
    {
     "name": "stdout",
     "output_type": "stream",
     "text": [
      "Fraction of samples in our validation set that are susceptible:\n",
      " phenotype\n",
      "R    1381\n",
      "S      36\n",
      "Name: count, dtype: int64\n"
     ]
    }
   ],
   "source": [
    "print ('Fraction of samples in our validation set that are susceptible:\\n',  ext_val.drop_duplicates(['UNIQUEID'], keep='first')['phenotype'].value_counts())"
   ]
  },
  {
   "cell_type": "markdown",
   "metadata": {},
   "source": [
    "Therefore, can only really report sensitivity.\n",
    "\n",
    "How many of these samples contain resistant mutations in the training set, though?"
   ]
  },
  {
   "cell_type": "code",
   "execution_count": 421,
   "metadata": {},
   "outputs": [
    {
     "name": "stdout",
     "output_type": "stream",
     "text": [
      "Fraction of samples that contain resistant mutations in the training set 0.9978828510938603\n"
     ]
    }
   ],
   "source": [
    "remove = []\n",
    "for id in ids:\n",
    "    samples = ext_val[ext_val.UNIQUEID==id]\n",
    "    if samples.mutation.isin(data[data.phenotype==1].mutation).any():\n",
    "        remove.append(id)\n",
    "\n",
    "print ('Fraction of samples that contain resistant mutations in the training set', len(remove)/ext_val.UNIQUEID.nunique())"
   ]
  },
  {
   "cell_type": "markdown",
   "metadata": {},
   "source": [
    "Basically all validation samples overlap with the training set, which means we can't do a fair evaluation. Although we have samples that weren't captured by the training set, they all contain resistant mutations that were.\n",
    "\n",
    "However, it also means our training set has captured pretty well all observed variability in the datatset and no RAVs (or susceptible mutations) are missed by the training set generation step - which is good (of course this only applies to samples with point mutations in the coding region)."
   ]
  },
  {
   "cell_type": "code",
   "execution_count": null,
   "metadata": {},
   "outputs": [],
   "source": []
  }
 ],
 "metadata": {
  "kernelspec": {
   "display_name": "rif_manuscript",
   "language": "python",
   "name": "python3"
  },
  "language_info": {
   "codemirror_mode": {
    "name": "ipython",
    "version": 3
   },
   "file_extension": ".py",
   "mimetype": "text/x-python",
   "name": "python",
   "nbconvert_exporter": "python",
   "pygments_lexer": "ipython3",
   "version": "3.12.2"
  }
 },
 "nbformat": 4,
 "nbformat_minor": 2
}
