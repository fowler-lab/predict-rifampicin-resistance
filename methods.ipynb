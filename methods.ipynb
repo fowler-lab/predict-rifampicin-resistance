{
 "cells": [
  {
   "cell_type": "code",
   "execution_count": 210,
   "metadata": {},
   "outputs": [
    {
     "name": "stdout",
     "output_type": "stream",
     "text": [
      "The autoreload extension is already loaded. To reload it, use:\n",
      "  %reload_ext autoreload\n"
     ]
    }
   ],
   "source": [
    "%load_ext autoreload\n",
    "%autoreload 2\n",
    "\n",
    "import pandas as pd\n",
    "import MDAnalysis as mda\n",
    "from utils import utils\n",
    "import sbmlcore\n",
    "import json\n",
    "import sys\n",
    "import os\n",
    "import gumpy\n",
    "import numpy as np\n",
    "\n",
    "from catomatic.CatalogueBuilder import BuildCatalogue\n",
    "import matplotlib.pyplot as plt\n",
    "\n",
    "sys.path.append(os.path.abspath('ml-models'))\n",
    "from mlmodels.Models import Models\n"
   ]
  },
  {
   "cell_type": "markdown",
   "metadata": {},
   "source": [
    "This notebook generates the figures in the paper 'Predicting rifampicin resistance in M. tuberculosis using machine learning informed by protein structural and chemical features.'\n",
    "\n",
    "Authors:\n",
    "- Charlotte Lynch\n",
    "- Dylan Adlard\n",
    "- Philip Fowler"
   ]
  },
  {
   "cell_type": "markdown",
   "metadata": {},
   "source": [
    "# Data Preperation - positions and labels"
   ]
  },
  {
   "cell_type": "markdown",
   "metadata": {},
   "source": [
    "Need to create a dataset of mutations with associated phenotypes from CRypTIC tables"
   ]
  },
  {
   "cell_type": "markdown",
   "metadata": {},
   "source": [
    "#### Data import"
   ]
  },
  {
   "cell_type": "code",
   "execution_count": 211,
   "metadata": {},
   "outputs": [],
   "source": [
    "phenos = pd.read_pickle('data/tables/cryptic-tables-v2.1.2/DST_MEASUREMENTS.pkl.gz').reset_index()\n",
    "genomes = pd.read_pickle('data/tables/cryptic-tables-v2.1.2/GENOMES.pkl.gz').reset_index()\n",
    "\n",
    "if not os.path.exists(\"./data/tables/cryptic-tables-v2.1.2/rpoB_mutations.csv\"):\n",
    "    mutations = pd.read_pickle('data/tables/cryptic-tables-v2.1.2/MUTATIONS.pkl.gz').reset_index()\n",
    "    mutations = mutations[mutations.GENE.isin(['rpoA', 'rpoB', 'rpoC'])]\n",
    "    mutations.to_csv(\"./data/tables/cryptic-tables-v2.1.2/rpoB_mutations.csv\")\n",
    "\n",
    "mutations = pd.read_csv(\"./data/tables/cryptic-tables-v2.1.2/rpoB_mutations.csv\")"
   ]
  },
  {
   "cell_type": "markdown",
   "metadata": {},
   "source": [
    "### Prepare phenotypes df "
   ]
  },
  {
   "cell_type": "code",
   "execution_count": 212,
   "metadata": {},
   "outputs": [
    {
     "name": "stderr",
     "output_type": "stream",
     "text": [
      "/var/folders/s5/pshvb2093574r5hqnwcy6klw0000gn/T/ipykernel_68201/2622153982.py:6: DeprecationWarning: DataFrameGroupBy.apply operated on the grouping columns. This behavior is deprecated, and in a future version of pandas the grouping columns will be excluded from the operation. Either pass `include_groups=False` to exclude the groupings or explicitly select the grouping columns after groupby to silence this warning.\n",
      "  phenos = phenos.groupby(\"UNIQUEID\", group_keys=False).apply(utils.filter_multiple_phenos).reset_index(drop=True)\n"
     ]
    }
   ],
   "source": [
    "#filter for rifampicin phyenotypes\n",
    "phenos = phenos[\n",
    "        (phenos.DRUG == 'RIF') & (phenos.PHENOTYPE.isin([\"R\", \"S\"]))\n",
    "    ]\n",
    "# drop duplicates (keep R row, otherwise keep first)\n",
    "phenos = phenos.groupby(\"UNIQUEID\", group_keys=False).apply(utils.filter_multiple_phenos).reset_index(drop=True)\n",
    "\n",
    "#generate phenotype dataframes for samples with sequences\n",
    "samples = pd.merge(genomes, phenos, how='inner', on='UNIQUEID')\n",
    "#filter out low quality phenotypes - we don't want to introduce false positives\n",
    "samples = samples[(samples.QUALITY.isin([\"HIGH\", \"MEDIUM\"]))]\n",
    "\n"
   ]
  },
  {
   "cell_type": "markdown",
   "metadata": {},
   "source": [
    "### Prepare mutations df"
   ]
  },
  {
   "cell_type": "code",
   "execution_count": 213,
   "metadata": {},
   "outputs": [],
   "source": [
    "mutations[\"GENE_MUT\"] = [\n",
    "    f\"{row['GENE']}@{row['MINOR_MUTATION'] if row['IS_MINOR_ALLELE'] else row['MUTATION']}\"\n",
    "    for _, row in mutations.iterrows()\n",
    "]\n",
    "mutations[\"IS_SYNONYMOUS\"] = [\n",
    "    row[\"MUTATION\"][0] == row[\"MUTATION\"][-1] for _, row in mutations.iterrows()\n",
    "]\n",
    "mutations[\"FRS\"] = [\n",
    "    1 if ~mutations[\"IS_MINOR_ALLELE\"][i] else mutations[\"FRS\"][i]\n",
    "    for i in mutations.index\n",
    "]\n",
    "mutations[\"IS_NULL\"] = mutations[\"MUTATION\"].apply(\n",
    "    lambda x: x.split(\"@\")[-1][-1]  == 'Z'\n",
    ")\n",
    "\n",
    "mutations = mutations[(~mutations.IS_SYNONYMOUS)&(~mutations.IS_NULL)]\n",
    "\n",
    "#define solos as samples with only one mutation in rpoB (but can have multiple across genes)\n",
    "mutations = mutations[mutations.GENE=='rpoB']\n"
   ]
  },
  {
   "cell_type": "markdown",
   "metadata": {},
   "source": [
    "### import wildcards"
   ]
  },
  {
   "cell_type": "code",
   "execution_count": 214,
   "metadata": {},
   "outputs": [],
   "source": [
    "#these are the wildcard rules used by catomatic to generate a piezo-compatible catalogue, which we will use as our training data\n",
    "with open('./data/temp/wildcards.json', 'r') as f:\n",
    "    wildcards = json.load(f)"
   ]
  },
  {
   "cell_type": "markdown",
   "metadata": {},
   "source": [
    "# Build dataframe for entire rpoB dataset"
   ]
  },
  {
   "cell_type": "markdown",
   "metadata": {},
   "source": [
    "This will contain all genotype-phenotype matched samples and their mutations for rifampicin - its the 'wider dataset'."
   ]
  },
  {
   "cell_type": "code",
   "execution_count": 215,
   "metadata": {},
   "outputs": [],
   "source": [
    "all_matched = pd.merge(samples, mutations, how='left', on=['UNIQUEID'])\n",
    "all_matched.to_csv('./data/tables/generated/all_matched.csv')"
   ]
  },
  {
   "cell_type": "code",
   "execution_count": 216,
   "metadata": {},
   "outputs": [
    {
     "name": "stdout",
     "output_type": "stream",
     "text": [
      "total number of isolates with rif phenothpes: 30973\n",
      "total number of isolates with rif phenotypes and mutations in rpoB: 14523\n",
      "total number of isolates with R rif phenotypes and mutations in rpoB: 10058\n",
      "total number of isolates with S rif phenotypes and mutations in rpoB: 4465\n"
     ]
    }
   ],
   "source": [
    "print ('total number of isolates with rif phenothpes:', all_matched.UNIQUEID.nunique())\n",
    "print ('total number of isolates with rif phenotypes and mutations in rpoB:', all_matched[~all_matched.MUTATION.isna()].UNIQUEID.nunique())\n",
    "print ('total number of isolates with R rif phenotypes and mutations in rpoB:', all_matched[(~all_matched.MUTATION.isna())&(all_matched.PHENOTYPE=='R')].UNIQUEID.nunique())\n",
    "print ('total number of isolates with S rif phenotypes and mutations in rpoB:', all_matched[(~all_matched.MUTATION.isna())&(all_matched.PHENOTYPE=='S')].UNIQUEID.nunique())\n"
   ]
  },
  {
   "cell_type": "markdown",
   "metadata": {},
   "source": [
    "# Build dataframe of all solos"
   ]
  },
  {
   "cell_type": "markdown",
   "metadata": {},
   "source": [
    "Helpful to reference all samples, not just the ML dataset which will contain unique mutations only."
   ]
  },
  {
   "cell_type": "code",
   "execution_count": 217,
   "metadata": {},
   "outputs": [],
   "source": [
    "all_solos = pd.merge(samples, mutations.drop_duplicates(subset=['UNIQUEID'], keep=False), how='inner', on=['UNIQUEID'])\n",
    "all_solos['segid'] = 'C'\n",
    "all_solos.to_csv('./data/tables/generated/rpoB_solos.csv')"
   ]
  },
  {
   "cell_type": "markdown",
   "metadata": {},
   "source": [
    "# Build a catalogue using catomatic"
   ]
  },
  {
   "cell_type": "code",
   "execution_count": 218,
   "metadata": {},
   "outputs": [],
   "source": [
    "catalogue = BuildCatalogue(\n",
    "    samples=samples,\n",
    "    mutations=mutations,\n",
    "    FRS=0.1,\n",
    "    record_ids=True,\n",
    "    tails='one',\n",
    "    test='Binomial',\n",
    "    p=0.95,\n",
    "    background=0.05,\n",
    "    seed=['C66T', 'G86A', 'E639D'],\n",
    "    strict_unlock=True\n",
    ")\n",
    "\n",
    "catalogue.to_piezo(\"NC_000962.3\", f\"RIF-2024.07\", \"1.1\", \"RIF\", wildcards, './data/tables/generated/catalogue.csv')\n",
    "catalogue = catalogue.build_piezo(\"NC_000962.3\", f\"RIF-2024.07\", \"1.1\", \"RIF\", wildcards)\n"
   ]
  },
  {
   "cell_type": "code",
   "execution_count": 219,
   "metadata": {},
   "outputs": [
    {
     "data": {
      "text/plain": [
       "PREDICTION\n",
       "S    266\n",
       "R     74\n",
       "U      5\n",
       "Name: count, dtype: int64"
      ]
     },
     "execution_count": 219,
     "metadata": {},
     "output_type": "execute_result"
    }
   ],
   "source": [
    "catalogue.PREDICTION.value_counts()"
   ]
  },
  {
   "cell_type": "code",
   "execution_count": 220,
   "metadata": {},
   "outputs": [],
   "source": [
    "# Convert evidence entries to dicts, and remove wildcard rows\n",
    "evidence = catalogue['EVIDENCE'].apply(utils.str_to_dict)\n",
    "#rename columns to match naming convention in `ml-models`\n",
    "df = catalogue[['MUTATION', 'PREDICTION']].rename(columns={'MUTATION':'mutation', 'PREDICTION':'phenotype'})\n",
    "#filter for point mutations only\n",
    "df = df[~df['mutation'].str.contains(r'_|\\!|\\*')]\n",
    "#generate resid and segid columns\n",
    "df['resid'] = [int(i[1:-1]) for i in df.mutation]\n",
    "df['segid'] = 'C'\n",
    "#filter for crystallised pdb region\n",
    "df = df[(df['resid']>=22) & (df['resid']<=1147)]"
   ]
  },
  {
   "cell_type": "code",
   "execution_count": 221,
   "metadata": {},
   "outputs": [
    {
     "data": {
      "text/plain": [
       "phenotype\n",
       "S    221\n",
       "R     46\n",
       "U      0\n",
       "Name: count, dtype: int64"
      ]
     },
     "execution_count": 221,
     "metadata": {},
     "output_type": "execute_result"
    }
   ],
   "source": [
    "df.phenotype.value_counts()"
   ]
  },
  {
   "cell_type": "code",
   "execution_count": 222,
   "metadata": {},
   "outputs": [
    {
     "data": {
      "text/html": [
       "<div>\n",
       "<style scoped>\n",
       "    .dataframe tbody tr th:only-of-type {\n",
       "        vertical-align: middle;\n",
       "    }\n",
       "\n",
       "    .dataframe tbody tr th {\n",
       "        vertical-align: top;\n",
       "    }\n",
       "\n",
       "    .dataframe thead th {\n",
       "        text-align: right;\n",
       "    }\n",
       "</style>\n",
       "<table border=\"1\" class=\"dataframe\">\n",
       "  <thead>\n",
       "    <tr style=\"text-align: right;\">\n",
       "      <th></th>\n",
       "      <th>mutation</th>\n",
       "      <th>phenotype</th>\n",
       "      <th>resid</th>\n",
       "      <th>segid</th>\n",
       "    </tr>\n",
       "  </thead>\n",
       "  <tbody>\n",
       "    <tr>\n",
       "      <th>0</th>\n",
       "      <td>C66T</td>\n",
       "      <td>S</td>\n",
       "      <td>66</td>\n",
       "      <td>C</td>\n",
       "    </tr>\n",
       "    <tr>\n",
       "      <th>1</th>\n",
       "      <td>G86A</td>\n",
       "      <td>S</td>\n",
       "      <td>86</td>\n",
       "      <td>C</td>\n",
       "    </tr>\n",
       "    <tr>\n",
       "      <th>2</th>\n",
       "      <td>E639D</td>\n",
       "      <td>S</td>\n",
       "      <td>639</td>\n",
       "      <td>C</td>\n",
       "    </tr>\n",
       "    <tr>\n",
       "      <th>4</th>\n",
       "      <td>V113I</td>\n",
       "      <td>S</td>\n",
       "      <td>113</td>\n",
       "      <td>C</td>\n",
       "    </tr>\n",
       "    <tr>\n",
       "      <th>5</th>\n",
       "      <td>G642S</td>\n",
       "      <td>S</td>\n",
       "      <td>642</td>\n",
       "      <td>C</td>\n",
       "    </tr>\n",
       "    <tr>\n",
       "      <th>...</th>\n",
       "      <td>...</td>\n",
       "      <td>...</td>\n",
       "      <td>...</td>\n",
       "      <td>...</td>\n",
       "    </tr>\n",
       "    <tr>\n",
       "      <th>330</th>\n",
       "      <td>H445F</td>\n",
       "      <td>R</td>\n",
       "      <td>445</td>\n",
       "      <td>C</td>\n",
       "    </tr>\n",
       "    <tr>\n",
       "      <th>334</th>\n",
       "      <td>M434I</td>\n",
       "      <td>R</td>\n",
       "      <td>434</td>\n",
       "      <td>C</td>\n",
       "    </tr>\n",
       "    <tr>\n",
       "      <th>335</th>\n",
       "      <td>V262A</td>\n",
       "      <td>R</td>\n",
       "      <td>262</td>\n",
       "      <td>C</td>\n",
       "    </tr>\n",
       "    <tr>\n",
       "      <th>337</th>\n",
       "      <td>S582A</td>\n",
       "      <td>R</td>\n",
       "      <td>582</td>\n",
       "      <td>C</td>\n",
       "    </tr>\n",
       "    <tr>\n",
       "      <th>338</th>\n",
       "      <td>L378R</td>\n",
       "      <td>R</td>\n",
       "      <td>378</td>\n",
       "      <td>C</td>\n",
       "    </tr>\n",
       "  </tbody>\n",
       "</table>\n",
       "<p>267 rows × 4 columns</p>\n",
       "</div>"
      ],
      "text/plain": [
       "    mutation phenotype  resid segid\n",
       "0       C66T         S     66     C\n",
       "1       G86A         S     86     C\n",
       "2      E639D         S    639     C\n",
       "4      V113I         S    113     C\n",
       "5      G642S         S    642     C\n",
       "..       ...       ...    ...   ...\n",
       "330    H445F         R    445     C\n",
       "334    M434I         R    434     C\n",
       "335    V262A         R    262     C\n",
       "337    S582A         R    582     C\n",
       "338    L378R         R    378     C\n",
       "\n",
       "[267 rows x 4 columns]"
      ]
     },
     "execution_count": 222,
     "metadata": {},
     "output_type": "execute_result"
    }
   ],
   "source": [
    "df"
   ]
  },
  {
   "cell_type": "markdown",
   "metadata": {},
   "source": [
    "# Feature engineering"
   ]
  },
  {
   "cell_type": "markdown",
   "metadata": {},
   "source": [
    "We have a table of mutations and their labels. Next step is to generate a global feature set for each mutation using sbmlcore."
   ]
  },
  {
   "cell_type": "code",
   "execution_count": 223,
   "metadata": {},
   "outputs": [],
   "source": [
    "features = sbmlcore.FeatureDataset(df, protein=\"RNAP\", species=\"M. tuberculosis\", gene=\"rpoB\")"
   ]
  },
  {
   "cell_type": "markdown",
   "metadata": {},
   "source": [
    "#### Generate amino acid features"
   ]
  },
  {
   "cell_type": "code",
   "execution_count": 224,
   "metadata": {},
   "outputs": [],
   "source": [
    "#change in amino acid volume on mutation\n",
    "volume = sbmlcore.AminoAcidVolumeChange()\n",
    "#change in amino acid hydropathy on mutation\n",
    "hydropathy = sbmlcore.AminoAcidHydropathyChangeKyteDoolittle()\n",
    "#change in amino acid molecular weight on mutation\n",
    "mw = sbmlcore.AminoAcidMWChange()\n",
    "#change in amino acid isoelectric point on mutation\n",
    "pi = sbmlcore.AminoAcidPiChange()\n",
    "#change in residue-environment similarity\n",
    "rogov = sbmlcore.AminoAcidRogovChange()\n",
    "\n",
    "features.add_feature([volume, hydropathy, mw, pi, rogov])"
   ]
  },
  {
   "cell_type": "markdown",
   "metadata": {},
   "source": [
    "#### Generate distance-based features"
   ]
  },
  {
   "cell_type": "code",
   "execution_count": 225,
   "metadata": {},
   "outputs": [],
   "source": [
    "#distance from each residue to rifampicin\n",
    "rif_distance = sbmlcore.StructuralDistances('./data/pdb/5uh6.pdb','resname RFP', 'Rif_distance', infer_masses=True, offsets = {\"C\": -6})\n",
    "#distance from each residue to the magnesium ion\n",
    "mg_distance = sbmlcore.StructuralDistances('./data/pdb/5uh6.pdb','resname MG', 'Mg_distance', infer_masses=True, offsets = {\"C\": -6})\n",
    "#distance from each residue to the first zinc ion\n",
    "zn1_distance = sbmlcore.StructuralDistances('./data/pdb/5uh6.pdb','index 26082 and resname ZN', 'Zn1_distance', infer_masses=True, offsets = {\"C\": -6})\n",
    "#distance from each residue to the second zinc ion\n",
    "zn2_distance = sbmlcore.StructuralDistances('./data/pdb/5uh6.pdb','index 26083 and resname ZN', 'Zn2_distance', infer_masses=True, offsets = {\"C\": -6})\n",
    "#distance from each residue to the antisense DNA strand\n",
    "antisense_p_distance = sbmlcore.StructuralDistances('./data/pdb/5uh6.pdb','segid G and name P', 'antisense_P_distance', infer_masses=True, offsets = {\"C\": -6})\n",
    "#distance from each residue to the coding DNA strand\n",
    "sense_p_distance = sbmlcore.StructuralDistances('./data/pdb/5uh6.pdb','segid H and name P', 'sense_P_distance', infer_masses=True, offsets = {\"C\": -6})\n",
    "#distance from each residue to the crystallised mRNA molecule\n",
    "rna_distance = sbmlcore.StructuralDistances('./data/pdb/5uh6.pdb','segid I', 'RNA_distance', infer_masses=True, offsets = {\"C\": -6})\n",
    "\n",
    "features.add_feature([rif_distance, mg_distance, zn1_distance, zn2_distance, antisense_p_distance, sense_p_distance, rna_distance])"
   ]
  },
  {
   "cell_type": "markdown",
   "metadata": {},
   "source": [
    "####  Generate structure-related features"
   ]
  },
  {
   "cell_type": "code",
   "execution_count": 226,
   "metadata": {},
   "outputs": [
    {
     "name": "stderr",
     "output_type": "stream",
     "text": [
      "/Users/dylanadlard/miniforge3/envs/rif_manuscript/lib/python3.12/site-packages/sbmlcore/ExternalCode.py:313: FutureWarning: A value is trying to be set on a copy of a DataFrame or Series through chained assignment using an inplace method.\n",
      "The behavior will change in pandas 3.0. This inplace method will never work because the intermediate object on which we are setting values always behaves as a copy.\n",
      "\n",
      "For example, when doing 'df[col].method(value, inplace=True)', try using 'df.method({col: value}, inplace=True)' or df[col] = df[col].method(value) instead, to perform the operation inplace on the original object.\n",
      "\n",
      "\n",
      "  snap2_df['Expected Accuracy'].replace(to_replace='%', value='', regex=True, inplace=True)\n"
     ]
    }
   ],
   "source": [
    "# use stride to assign secondary structure to each residue\n",
    "stride = sbmlcore.Stride(\"./data/pdb/5uh6-peptide-only.pdb\", offsets={'A': 0, 'B': 0, 'C':-6, 'D':0, 'E':0, 'F':0})\n",
    "# use freeSASA to calculate solvent accessible surface area of each residue\n",
    "freesasa = sbmlcore.FreeSASA(\"./data/pdb/5uh6.pdb\", offsets = {'C':-6})\n",
    "# use SNAP2 to predict functional perturbation for each mutation (in reality just adding pre-generated feature to df)\n",
    "snap2 = sbmlcore.SNAP2(\"./data/stride/5uh6-complete.csv\", offsets={'A': 0, 'B': 0, 'C':-6, 'D':0, 'E':0, 'F':0})\n",
    "# use deepddg to predict change in stability on mutation\n",
    "deepddg = sbmlcore.DeepDDG(\"./data/ddg/5uh6.ddg\", offsets={'A': 0, 'B': 0, 'C':-6, 'D':0, 'E':0, 'F':0})\n",
    "# use rasp to predict change in stability on mutation\n",
    "rasp = sbmlcore.RaSP(\"./data/rasp/cavity_pred_5uh6_C.csv\", offsets = {'C':-6})\n",
    "# extract temperature factors from pdb file and add to df\n",
    "temp = sbmlcore.TempFactors(\"./data/pdb/5uh6.pdb\", offsets={'A': 0, 'B': 0, 'C':-6, 'D':0, 'E':0, 'F':0})\n",
    "\n",
    "features.add_feature([stride, freesasa, snap2, deepddg, rasp, temp])"
   ]
  },
  {
   "cell_type": "markdown",
   "metadata": {},
   "source": [
    "### Generate dynamic distance features"
   ]
  },
  {
   "cell_type": "code",
   "execution_count": 227,
   "metadata": {},
   "outputs": [],
   "source": [
    "#minimum distance to rifampicin (excluding percentile tails)\n",
    "rif_min_distance = sbmlcore.TrajectoryDistances('./data/md_files/rpob-5uh6-3-warm.gro', ['./data/md_files/rpob-5uh6-3-md-1-50ns-dt1ns-nojump.xtc', './data/md_files/rpob-5uh6-3-md-2-50ns-dt1ns-nojump.xtc', './data/md_files/rpob-5uh6-3-md-3-50ns-dt1ns-nojump.xtc'], './data/pdb/5uh6.pdb', 'resname RFP', 'Rif_min_distance', distance_type='min', offsets = {'A':0, 'B':0, 'C':-6, 'D':0, 'E':0, 'F':0}, percentile_exclusion=True)\n",
    "#minimum distance to the magnesium ion (excluding percentile tails)\n",
    "mg_min_distance = sbmlcore.TrajectoryDistances('./data/md_files/rpob-5uh6-3-warm.gro', ['./data/md_files/rpob-5uh6-3-md-1-50ns-dt1ns-nojump.xtc', './data/md_files/rpob-5uh6-3-md-2-50ns-dt1ns-nojump.xtc', './data/md_files/rpob-5uh6-3-md-3-50ns-dt1ns-nojump.xtc'], './data/pdb/5uh6.pdb', 'resname MG', 'Mg_min_distance', distance_type='min', offsets = {'A':0, 'B':0, 'C':-6, 'D':0, 'E':0, 'F':0}, percentile_exclusion=True)\n",
    "#minimum distance to the first zinc ion (excluding percentile tails)\n",
    "zn1_min_distance = sbmlcore.TrajectoryDistances('./data/md_files/rpob-5uh6-3-warm.gro', ['./data/md_files/rpob-5uh6-3-md-1-50ns-dt1ns-nojump.xtc', './data/md_files/rpob-5uh6-3-md-2-50ns-dt1ns-nojump.xtc', './data/md_files/rpob-5uh6-3-md-3-50ns-dt1ns-nojump.xtc'], './data/pdb/5uh6.pdb', 'resid 1283 and resname ZN', 'Zn1_min_distance', distance_type='min', offsets = {'A':0, 'B':0, 'C':-6, 'D':0, 'E':0, 'F':0}, percentile_exclusion=True)\n",
    "#minimum distance to the second zinc ion (excluding percentile tails)\n",
    "zn2_min_distance = sbmlcore.TrajectoryDistances('./data/md_files/rpob-5uh6-3-warm.gro', ['./data/md_files/rpob-5uh6-3-md-1-50ns-dt1ns-nojump.xtc', './data/md_files/rpob-5uh6-3-md-2-50ns-dt1ns-nojump.xtc', './data/md_files/rpob-5uh6-3-md-3-50ns-dt1ns-nojump.xtc'], './data/pdb/5uh6.pdb', 'resid 1284 and resname ZN', 'Zn2_min_distance', distance_type='min', offsets = {'A':0, 'B':0, 'C':-6, 'D':0, 'E':0, 'F':0}, percentile_exclusion=True)\n",
    "#minimum distance to the nearest antisensne base (excluding percentile tails)\n",
    "antisense_P_min_distance = sbmlcore.TrajectoryDistances('./data/md_files/rpob-5uh6-3-warm.gro', ['./data/md_files/rpob-5uh6-3-md-1-50ns-dt1ns-nojump.xtc', './data/md_files/rpob-5uh6-3-md-2-50ns-dt1ns-nojump.xtc', './data/md_files/rpob-5uh6-3-md-3-50ns-dt1ns-nojump.xtc'], './data/pdb/5uh6.pdb', 'index 50737:51209 and name P', 'antisense_P_min_distance', distance_type='min', offsets = {'A':0, 'B':0, 'C':-6, 'D':0, 'E':0, 'F':0}, percentile_exclusion=True)\n",
    "#minimum distance to nearest sense base (excluding percentile tails)\n",
    "sense_P_min_distance = sbmlcore.TrajectoryDistances('./data/md_files/rpob-5uh6-3-warm.gro', ['./data/md_files/rpob-5uh6-3-md-1-50ns-dt1ns-nojump.xtc', './data/md_files/rpob-5uh6-3-md-2-50ns-dt1ns-nojump.xtc', './data/md_files/rpob-5uh6-3-md-3-50ns-dt1ns-nojump.xtc'], './data/pdb/5uh6.pdb', 'index 51210:51946 and name P', 'sense_P_min_distance', distance_type='min', offsets = {'A':0, 'B':0, 'C':-6, 'D':0, 'E':0, 'F':0}, percentile_exclusion=True)\n",
    "#minimum distance to the mRNA molecule (excluding percentile tails)\n",
    "rna_min_distance = sbmlcore.TrajectoryDistances('./data/md_files/rpob-5uh6-3-warm.gro', ['./data/md_files/rpob-5uh6-3-md-1-50ns-dt1ns-nojump.xtc', './data/md_files/rpob-5uh6-3-md-2-50ns-dt1ns-nojump.xtc', './data/md_files/rpob-5uh6-3-md-3-50ns-dt1ns-nojump.xtc'], './data/pdb/5uh6.pdb', 'resname G or resname A', 'RNA_min_distance', distance_type='min', offsets = {'A':0, 'B':0, 'C':-6, 'D':0, 'E':0, 'F':0}, percentile_exclusion=True)\n",
    "\n",
    "features.add_feature([rif_min_distance, mg_min_distance, zn1_min_distance, zn2_min_distance, antisense_P_min_distance, rna_min_distance])"
   ]
  },
  {
   "cell_type": "markdown",
   "metadata": {},
   "source": [
    "### Generate dynamic angle features"
   ]
  },
  {
   "cell_type": "code",
   "execution_count": 228,
   "metadata": {},
   "outputs": [],
   "source": [
    "#mean phi angle between each residue\n",
    "phi_mean = sbmlcore.TrajectoryDihedrals('./data/md_files/rpob-5uh6-3-warm.gro', ['./data/md_files/rpob-5uh6-3-md-1-50ns-dt1ns-nojump.xtc', './data/md_files/rpob-5uh6-3-md-2-50ns-dt1ns-nojump.xtc','./data/md_files/rpob-5uh6-3-md-3-50ns-dt1ns-nojump.xtc'], './data/pdb/5uh6.pdb', 'phi', 'mean_phi', angle_type='mean', add_bonds=True, offsets = {'A':0, 'B':0, 'C':-6, 'D':0, 'E':0, 'F':0}, percentile_exclusion=True)\n",
    "#mean psi angle between each residue\n",
    "psi_mean = sbmlcore.TrajectoryDihedrals('./data/md_files/rpob-5uh6-3-warm.gro', ['./data/md_files/rpob-5uh6-3-md-1-50ns-dt1ns-nojump.xtc', './data/md_files/rpob-5uh6-3-md-2-50ns-dt1ns-nojump.xtc','./data/md_files/rpob-5uh6-3-md-3-50ns-dt1ns-nojump.xtc'], './data/pdb/5uh6.pdb', 'psi', 'mean_psi', angle_type='mean', add_bonds=True, offsets = {'A':0, 'B':0, 'C':-6, 'D':0, 'E':0, 'F':0}, percentile_exclusion=True)\n",
    "\n",
    "features.add_feature([phi_mean, psi_mean])"
   ]
  },
  {
   "cell_type": "markdown",
   "metadata": {},
   "source": [
    "#### Clean up"
   ]
  },
  {
   "cell_type": "markdown",
   "metadata": {},
   "source": [
    "The pdb residue and reference sequence used by CRyPTIC do not match for 2 mutations in our dataset:\n"
   ]
  },
  {
   "cell_type": "code",
   "execution_count": 229,
   "metadata": {},
   "outputs": [
    {
     "data": {
      "text/html": [
       "<div>\n",
       "<style scoped>\n",
       "    .dataframe tbody tr th:only-of-type {\n",
       "        vertical-align: middle;\n",
       "    }\n",
       "\n",
       "    .dataframe tbody tr th {\n",
       "        vertical-align: top;\n",
       "    }\n",
       "\n",
       "    .dataframe thead th {\n",
       "        text-align: right;\n",
       "    }\n",
       "</style>\n",
       "<table border=\"1\" class=\"dataframe\">\n",
       "  <thead>\n",
       "    <tr style=\"text-align: right;\">\n",
       "      <th></th>\n",
       "      <th>segid</th>\n",
       "      <th>resid</th>\n",
       "      <th>mutation</th>\n",
       "      <th>phenotype</th>\n",
       "      <th>d_volume</th>\n",
       "      <th>d_hydropathy_KD</th>\n",
       "      <th>d_MW</th>\n",
       "      <th>d_Pi</th>\n",
       "      <th>d_rogov</th>\n",
       "      <th>Rif_distance</th>\n",
       "      <th>...</th>\n",
       "      <th>rasp_score_ml</th>\n",
       "      <th>temp_factor</th>\n",
       "      <th>Rif_min_distance</th>\n",
       "      <th>Mg_min_distance</th>\n",
       "      <th>Zn1_min_distance</th>\n",
       "      <th>Zn2_min_distance</th>\n",
       "      <th>antisense_P_min_distance</th>\n",
       "      <th>RNA_min_distance</th>\n",
       "      <th>mean_phi</th>\n",
       "      <th>mean_psi</th>\n",
       "    </tr>\n",
       "  </thead>\n",
       "  <tbody>\n",
       "    <tr>\n",
       "      <th>0</th>\n",
       "      <td>C</td>\n",
       "      <td>66</td>\n",
       "      <td>C66T</td>\n",
       "      <td>S</td>\n",
       "      <td>7.6</td>\n",
       "      <td>-3.2</td>\n",
       "      <td>-2.1</td>\n",
       "      <td>0.53</td>\n",
       "      <td>-0.156</td>\n",
       "      <td>NaN</td>\n",
       "      <td>...</td>\n",
       "      <td>NaN</td>\n",
       "      <td>NaN</td>\n",
       "      <td>NaN</td>\n",
       "      <td>NaN</td>\n",
       "      <td>NaN</td>\n",
       "      <td>NaN</td>\n",
       "      <td>NaN</td>\n",
       "      <td>NaN</td>\n",
       "      <td>NaN</td>\n",
       "      <td>NaN</td>\n",
       "    </tr>\n",
       "    <tr>\n",
       "      <th>1</th>\n",
       "      <td>C</td>\n",
       "      <td>86</td>\n",
       "      <td>G86A</td>\n",
       "      <td>S</td>\n",
       "      <td>28.5</td>\n",
       "      <td>2.2</td>\n",
       "      <td>14.0</td>\n",
       "      <td>0.03</td>\n",
       "      <td>-0.023</td>\n",
       "      <td>NaN</td>\n",
       "      <td>...</td>\n",
       "      <td>NaN</td>\n",
       "      <td>NaN</td>\n",
       "      <td>NaN</td>\n",
       "      <td>NaN</td>\n",
       "      <td>NaN</td>\n",
       "      <td>NaN</td>\n",
       "      <td>NaN</td>\n",
       "      <td>NaN</td>\n",
       "      <td>NaN</td>\n",
       "      <td>NaN</td>\n",
       "    </tr>\n",
       "  </tbody>\n",
       "</table>\n",
       "<p>2 rows × 46 columns</p>\n",
       "</div>"
      ],
      "text/plain": [
       "  segid  resid mutation phenotype  d_volume  d_hydropathy_KD  d_MW  d_Pi  \\\n",
       "0     C     66     C66T         S       7.6             -3.2  -2.1  0.53   \n",
       "1     C     86     G86A         S      28.5              2.2  14.0  0.03   \n",
       "\n",
       "   d_rogov  Rif_distance  ...  rasp_score_ml  temp_factor  Rif_min_distance  \\\n",
       "0   -0.156           NaN  ...            NaN          NaN               NaN   \n",
       "1   -0.023           NaN  ...            NaN          NaN               NaN   \n",
       "\n",
       "   Mg_min_distance  Zn1_min_distance  Zn2_min_distance  \\\n",
       "0              NaN               NaN               NaN   \n",
       "1              NaN               NaN               NaN   \n",
       "\n",
       "  antisense_P_min_distance RNA_min_distance  mean_phi  mean_psi  \n",
       "0                      NaN              NaN       NaN       NaN  \n",
       "1                      NaN              NaN       NaN       NaN  \n",
       "\n",
       "[2 rows x 46 columns]"
      ]
     },
     "execution_count": 229,
     "metadata": {},
     "output_type": "execute_result"
    }
   ],
   "source": [
    "features.df[features.df['T'].isna()]"
   ]
  },
  {
   "cell_type": "markdown",
   "metadata": {},
   "source": [
    "These residues do not exsit at that position in the pdb - as the pdb sequence is the reference (as our entire feature set derives from the pdb), we need to filter these mutations out"
   ]
  },
  {
   "cell_type": "code",
   "execution_count": 230,
   "metadata": {},
   "outputs": [],
   "source": [
    "features.df = features.df.dropna(subset=['T'])"
   ]
  },
  {
   "cell_type": "code",
   "execution_count": 231,
   "metadata": {},
   "outputs": [
    {
     "data": {
      "text/html": [
       "<div>\n",
       "<style scoped>\n",
       "    .dataframe tbody tr th:only-of-type {\n",
       "        vertical-align: middle;\n",
       "    }\n",
       "\n",
       "    .dataframe tbody tr th {\n",
       "        vertical-align: top;\n",
       "    }\n",
       "\n",
       "    .dataframe thead th {\n",
       "        text-align: right;\n",
       "    }\n",
       "</style>\n",
       "<table border=\"1\" class=\"dataframe\">\n",
       "  <thead>\n",
       "    <tr style=\"text-align: right;\">\n",
       "      <th></th>\n",
       "      <th>segid</th>\n",
       "      <th>resid</th>\n",
       "      <th>mutation</th>\n",
       "      <th>phenotype</th>\n",
       "      <th>d_volume</th>\n",
       "      <th>d_hydropathy_KD</th>\n",
       "      <th>d_MW</th>\n",
       "      <th>d_pi</th>\n",
       "      <th>d_rogov</th>\n",
       "      <th>Rif_distance</th>\n",
       "      <th>...</th>\n",
       "      <th>temp_factor</th>\n",
       "      <th>Rif_min_distance</th>\n",
       "      <th>Mg_min_distance</th>\n",
       "      <th>Zn1_min_distance</th>\n",
       "      <th>Zn2_min_distance</th>\n",
       "      <th>antisense_P_min_distance</th>\n",
       "      <th>RNA_min_distance</th>\n",
       "      <th>mean_phi</th>\n",
       "      <th>mean_psi</th>\n",
       "      <th>secondary_structure</th>\n",
       "    </tr>\n",
       "  </thead>\n",
       "  <tbody>\n",
       "    <tr>\n",
       "      <th>2</th>\n",
       "      <td>C</td>\n",
       "      <td>639</td>\n",
       "      <td>E639D</td>\n",
       "      <td>0</td>\n",
       "      <td>-27.3</td>\n",
       "      <td>0.0</td>\n",
       "      <td>-14.0</td>\n",
       "      <td>-0.45</td>\n",
       "      <td>0.109</td>\n",
       "      <td>34.015193</td>\n",
       "      <td>...</td>\n",
       "      <td>41.400002</td>\n",
       "      <td>32.398593</td>\n",
       "      <td>46.038218</td>\n",
       "      <td>86.959443</td>\n",
       "      <td>72.279360</td>\n",
       "      <td>51.151947</td>\n",
       "      <td>42.275598</td>\n",
       "      <td>-93.369233</td>\n",
       "      <td>-20.024702</td>\n",
       "      <td>0</td>\n",
       "    </tr>\n",
       "    <tr>\n",
       "      <th>3</th>\n",
       "      <td>C</td>\n",
       "      <td>113</td>\n",
       "      <td>V113I</td>\n",
       "      <td>0</td>\n",
       "      <td>26.7</td>\n",
       "      <td>0.3</td>\n",
       "      <td>14.1</td>\n",
       "      <td>0.06</td>\n",
       "      <td>0.494</td>\n",
       "      <td>24.626817</td>\n",
       "      <td>...</td>\n",
       "      <td>36.919998</td>\n",
       "      <td>21.736677</td>\n",
       "      <td>39.482342</td>\n",
       "      <td>75.763734</td>\n",
       "      <td>53.560955</td>\n",
       "      <td>39.285029</td>\n",
       "      <td>33.699031</td>\n",
       "      <td>-60.411471</td>\n",
       "      <td>-33.459681</td>\n",
       "      <td>1</td>\n",
       "    </tr>\n",
       "    <tr>\n",
       "      <th>4</th>\n",
       "      <td>C</td>\n",
       "      <td>642</td>\n",
       "      <td>G642S</td>\n",
       "      <td>0</td>\n",
       "      <td>28.9</td>\n",
       "      <td>-0.4</td>\n",
       "      <td>30.0</td>\n",
       "      <td>-0.29</td>\n",
       "      <td>0.120</td>\n",
       "      <td>42.448172</td>\n",
       "      <td>...</td>\n",
       "      <td>32.490002</td>\n",
       "      <td>40.799796</td>\n",
       "      <td>51.833114</td>\n",
       "      <td>94.069735</td>\n",
       "      <td>78.792626</td>\n",
       "      <td>59.842361</td>\n",
       "      <td>49.009863</td>\n",
       "      <td>22.946413</td>\n",
       "      <td>-155.697465</td>\n",
       "      <td>2</td>\n",
       "    </tr>\n",
       "    <tr>\n",
       "      <th>5</th>\n",
       "      <td>C</td>\n",
       "      <td>751</td>\n",
       "      <td>I751V</td>\n",
       "      <td>0</td>\n",
       "      <td>-26.7</td>\n",
       "      <td>-0.3</td>\n",
       "      <td>-14.1</td>\n",
       "      <td>-0.06</td>\n",
       "      <td>0.494</td>\n",
       "      <td>27.986912</td>\n",
       "      <td>...</td>\n",
       "      <td>19.900000</td>\n",
       "      <td>24.936656</td>\n",
       "      <td>37.996169</td>\n",
       "      <td>64.407775</td>\n",
       "      <td>34.255279</td>\n",
       "      <td>35.106592</td>\n",
       "      <td>32.315447</td>\n",
       "      <td>-144.714133</td>\n",
       "      <td>148.649884</td>\n",
       "      <td>2</td>\n",
       "    </tr>\n",
       "    <tr>\n",
       "      <th>6</th>\n",
       "      <td>C</td>\n",
       "      <td>944</td>\n",
       "      <td>K944N</td>\n",
       "      <td>0</td>\n",
       "      <td>-54.5</td>\n",
       "      <td>0.4</td>\n",
       "      <td>-14.1</td>\n",
       "      <td>-4.33</td>\n",
       "      <td>0.197</td>\n",
       "      <td>59.941562</td>\n",
       "      <td>...</td>\n",
       "      <td>86.489998</td>\n",
       "      <td>54.022245</td>\n",
       "      <td>49.511935</td>\n",
       "      <td>88.429960</td>\n",
       "      <td>106.835526</td>\n",
       "      <td>69.617671</td>\n",
       "      <td>52.185349</td>\n",
       "      <td>55.856385</td>\n",
       "      <td>20.543887</td>\n",
       "      <td>0</td>\n",
       "    </tr>\n",
       "    <tr>\n",
       "      <th>...</th>\n",
       "      <td>...</td>\n",
       "      <td>...</td>\n",
       "      <td>...</td>\n",
       "      <td>...</td>\n",
       "      <td>...</td>\n",
       "      <td>...</td>\n",
       "      <td>...</td>\n",
       "      <td>...</td>\n",
       "      <td>...</td>\n",
       "      <td>...</td>\n",
       "      <td>...</td>\n",
       "      <td>...</td>\n",
       "      <td>...</td>\n",
       "      <td>...</td>\n",
       "      <td>...</td>\n",
       "      <td>...</td>\n",
       "      <td>...</td>\n",
       "      <td>...</td>\n",
       "      <td>...</td>\n",
       "      <td>...</td>\n",
       "      <td>...</td>\n",
       "    </tr>\n",
       "    <tr>\n",
       "      <th>262</th>\n",
       "      <td>C</td>\n",
       "      <td>445</td>\n",
       "      <td>H445F</td>\n",
       "      <td>1</td>\n",
       "      <td>36.7</td>\n",
       "      <td>6.0</td>\n",
       "      <td>10.0</td>\n",
       "      <td>-2.11</td>\n",
       "      <td>-0.016</td>\n",
       "      <td>9.683248</td>\n",
       "      <td>...</td>\n",
       "      <td>16.459999</td>\n",
       "      <td>7.818147</td>\n",
       "      <td>24.649392</td>\n",
       "      <td>61.053218</td>\n",
       "      <td>60.018633</td>\n",
       "      <td>25.919643</td>\n",
       "      <td>19.380805</td>\n",
       "      <td>-73.606848</td>\n",
       "      <td>-39.475197</td>\n",
       "      <td>1</td>\n",
       "    </tr>\n",
       "    <tr>\n",
       "      <th>263</th>\n",
       "      <td>C</td>\n",
       "      <td>434</td>\n",
       "      <td>M434I</td>\n",
       "      <td>1</td>\n",
       "      <td>3.8</td>\n",
       "      <td>2.6</td>\n",
       "      <td>-18.0</td>\n",
       "      <td>0.28</td>\n",
       "      <td>-0.452</td>\n",
       "      <td>9.843524</td>\n",
       "      <td>...</td>\n",
       "      <td>17.299999</td>\n",
       "      <td>6.959772</td>\n",
       "      <td>25.525949</td>\n",
       "      <td>61.429328</td>\n",
       "      <td>53.765220</td>\n",
       "      <td>25.613549</td>\n",
       "      <td>19.405567</td>\n",
       "      <td>-74.641870</td>\n",
       "      <td>137.553994</td>\n",
       "      <td>3</td>\n",
       "    </tr>\n",
       "    <tr>\n",
       "      <th>264</th>\n",
       "      <td>C</td>\n",
       "      <td>262</td>\n",
       "      <td>V262A</td>\n",
       "      <td>1</td>\n",
       "      <td>-51.4</td>\n",
       "      <td>-2.4</td>\n",
       "      <td>-28.0</td>\n",
       "      <td>0.04</td>\n",
       "      <td>0.232</td>\n",
       "      <td>56.595298</td>\n",
       "      <td>...</td>\n",
       "      <td>133.350006</td>\n",
       "      <td>56.504732</td>\n",
       "      <td>68.031156</td>\n",
       "      <td>62.596191</td>\n",
       "      <td>74.290668</td>\n",
       "      <td>45.068224</td>\n",
       "      <td>64.342506</td>\n",
       "      <td>-123.647188</td>\n",
       "      <td>-17.394655</td>\n",
       "      <td>3</td>\n",
       "    </tr>\n",
       "    <tr>\n",
       "      <th>265</th>\n",
       "      <td>C</td>\n",
       "      <td>582</td>\n",
       "      <td>S582A</td>\n",
       "      <td>1</td>\n",
       "      <td>-0.4</td>\n",
       "      <td>2.6</td>\n",
       "      <td>-16.0</td>\n",
       "      <td>0.32</td>\n",
       "      <td>0.249</td>\n",
       "      <td>18.638826</td>\n",
       "      <td>...</td>\n",
       "      <td>18.350000</td>\n",
       "      <td>15.642925</td>\n",
       "      <td>23.524223</td>\n",
       "      <td>61.807004</td>\n",
       "      <td>71.149683</td>\n",
       "      <td>30.284239</td>\n",
       "      <td>21.147248</td>\n",
       "      <td>-94.405096</td>\n",
       "      <td>114.374256</td>\n",
       "      <td>0</td>\n",
       "    </tr>\n",
       "    <tr>\n",
       "      <th>266</th>\n",
       "      <td>C</td>\n",
       "      <td>378</td>\n",
       "      <td>L378R</td>\n",
       "      <td>1</td>\n",
       "      <td>6.7</td>\n",
       "      <td>-8.3</td>\n",
       "      <td>43.0</td>\n",
       "      <td>4.78</td>\n",
       "      <td>-0.090</td>\n",
       "      <td>17.636419</td>\n",
       "      <td>...</td>\n",
       "      <td>21.850000</td>\n",
       "      <td>17.485913</td>\n",
       "      <td>38.233814</td>\n",
       "      <td>64.648269</td>\n",
       "      <td>56.601199</td>\n",
       "      <td>26.222001</td>\n",
       "      <td>31.796518</td>\n",
       "      <td>-66.320866</td>\n",
       "      <td>-35.741500</td>\n",
       "      <td>1</td>\n",
       "    </tr>\n",
       "  </tbody>\n",
       "</table>\n",
       "<p>265 rows × 34 columns</p>\n",
       "</div>"
      ],
      "text/plain": [
       "    segid  resid mutation  phenotype  d_volume  d_hydropathy_KD  d_MW  d_pi  \\\n",
       "2       C    639    E639D          0     -27.3              0.0 -14.0 -0.45   \n",
       "3       C    113    V113I          0      26.7              0.3  14.1  0.06   \n",
       "4       C    642    G642S          0      28.9             -0.4  30.0 -0.29   \n",
       "5       C    751    I751V          0     -26.7             -0.3 -14.1 -0.06   \n",
       "6       C    944    K944N          0     -54.5              0.4 -14.1 -4.33   \n",
       "..    ...    ...      ...        ...       ...              ...   ...   ...   \n",
       "262     C    445    H445F          1      36.7              6.0  10.0 -2.11   \n",
       "263     C    434    M434I          1       3.8              2.6 -18.0  0.28   \n",
       "264     C    262    V262A          1     -51.4             -2.4 -28.0  0.04   \n",
       "265     C    582    S582A          1      -0.4              2.6 -16.0  0.32   \n",
       "266     C    378    L378R          1       6.7             -8.3  43.0  4.78   \n",
       "\n",
       "     d_rogov  Rif_distance  ...  temp_factor  Rif_min_distance  \\\n",
       "2      0.109     34.015193  ...    41.400002         32.398593   \n",
       "3      0.494     24.626817  ...    36.919998         21.736677   \n",
       "4      0.120     42.448172  ...    32.490002         40.799796   \n",
       "5      0.494     27.986912  ...    19.900000         24.936656   \n",
       "6      0.197     59.941562  ...    86.489998         54.022245   \n",
       "..       ...           ...  ...          ...               ...   \n",
       "262   -0.016      9.683248  ...    16.459999          7.818147   \n",
       "263   -0.452      9.843524  ...    17.299999          6.959772   \n",
       "264    0.232     56.595298  ...   133.350006         56.504732   \n",
       "265    0.249     18.638826  ...    18.350000         15.642925   \n",
       "266   -0.090     17.636419  ...    21.850000         17.485913   \n",
       "\n",
       "     Mg_min_distance  Zn1_min_distance  Zn2_min_distance  \\\n",
       "2          46.038218         86.959443         72.279360   \n",
       "3          39.482342         75.763734         53.560955   \n",
       "4          51.833114         94.069735         78.792626   \n",
       "5          37.996169         64.407775         34.255279   \n",
       "6          49.511935         88.429960        106.835526   \n",
       "..               ...               ...               ...   \n",
       "262        24.649392         61.053218         60.018633   \n",
       "263        25.525949         61.429328         53.765220   \n",
       "264        68.031156         62.596191         74.290668   \n",
       "265        23.524223         61.807004         71.149683   \n",
       "266        38.233814         64.648269         56.601199   \n",
       "\n",
       "     antisense_P_min_distance  RNA_min_distance    mean_phi    mean_psi  \\\n",
       "2                   51.151947         42.275598  -93.369233  -20.024702   \n",
       "3                   39.285029         33.699031  -60.411471  -33.459681   \n",
       "4                   59.842361         49.009863   22.946413 -155.697465   \n",
       "5                   35.106592         32.315447 -144.714133  148.649884   \n",
       "6                   69.617671         52.185349   55.856385   20.543887   \n",
       "..                        ...               ...         ...         ...   \n",
       "262                 25.919643         19.380805  -73.606848  -39.475197   \n",
       "263                 25.613549         19.405567  -74.641870  137.553994   \n",
       "264                 45.068224         64.342506 -123.647188  -17.394655   \n",
       "265                 30.284239         21.147248  -94.405096  114.374256   \n",
       "266                 26.222001         31.796518  -66.320866  -35.741500   \n",
       "\n",
       "     secondary_structure  \n",
       "2                      0  \n",
       "3                      1  \n",
       "4                      2  \n",
       "5                      2  \n",
       "6                      0  \n",
       "..                   ...  \n",
       "262                    1  \n",
       "263                    3  \n",
       "264                    3  \n",
       "265                    0  \n",
       "266                    1  \n",
       "\n",
       "[265 rows x 34 columns]"
      ]
     },
     "execution_count": 231,
     "metadata": {},
     "output_type": "execute_result"
    }
   ],
   "source": [
    "#annotate secondary structures with integer codes\n",
    "features.df['secondary_structure_codes'] = pd.Categorical(features.df.secondary_structure, categories=features.df.secondary_structure.unique()).codes\n",
    "features.df = features.df.drop(columns=[\"secondary_structure\",\"secondary_structure_long\",\"B\",\"C\",\"E\",\"G\",\"H\",\"T\"])\n",
    "features.df = features.df.drop(columns=[\"residue_sasa\",\"snap2_accuracy\",\"rasp_wt_nlf\",\"rasp_mt_nlf\",\"rasp_score_ml\"])\n",
    "#rename columns\n",
    "features.df = features.df.rename(columns={\"d_Pi\":\"d_pi\", \"rasp_score_ml_fermi\":\"rasp_score\", \"secondary_structure_codes\":\"secondary_structure\"})\n",
    "\n",
    "df = features.df.copy()\n",
    "\n",
    "#replace R/S labels with binary 1/0\n",
    "df['phenotype'] = [1 if i =='R' else 0 for i in df.phenotype]\n",
    "\n",
    "df.to_csv('./data/tables/generated/features_dataset.csv')\n",
    "\n",
    "\n",
    "df"
   ]
  },
  {
   "cell_type": "markdown",
   "metadata": {},
   "source": []
  },
  {
   "cell_type": "code",
   "execution_count": 232,
   "metadata": {},
   "outputs": [
    {
     "data": {
      "text/plain": [
       "Index(['segid', 'resid', 'mutation', 'phenotype', 'd_volume',\n",
       "       'd_hydropathy_KD', 'd_MW', 'd_pi', 'd_rogov', 'Rif_distance',\n",
       "       'Mg_distance', 'Zn1_distance', 'Zn2_distance', 'antisense_P_distance',\n",
       "       'sense_P_distance', 'RNA_distance', 'phi', 'psi', 'n_hbond_acceptors',\n",
       "       'n_hbond_donors', 'SASA', 'snap2_score', 'deep_ddG', 'rasp_score',\n",
       "       'temp_factor', 'Rif_min_distance', 'Mg_min_distance',\n",
       "       'Zn1_min_distance', 'Zn2_min_distance', 'antisense_P_min_distance',\n",
       "       'RNA_min_distance', 'mean_phi', 'mean_psi', 'secondary_structure'],\n",
       "      dtype='object')"
      ]
     },
     "execution_count": 232,
     "metadata": {},
     "output_type": "execute_result"
    }
   ],
   "source": [
    "df.columns"
   ]
  },
  {
   "cell_type": "code",
   "execution_count": 233,
   "metadata": {},
   "outputs": [
    {
     "data": {
      "text/html": [
       "<div>\n",
       "<style scoped>\n",
       "    .dataframe tbody tr th:only-of-type {\n",
       "        vertical-align: middle;\n",
       "    }\n",
       "\n",
       "    .dataframe tbody tr th {\n",
       "        vertical-align: top;\n",
       "    }\n",
       "\n",
       "    .dataframe thead th {\n",
       "        text-align: right;\n",
       "    }\n",
       "</style>\n",
       "<table border=\"1\" class=\"dataframe\">\n",
       "  <thead>\n",
       "    <tr style=\"text-align: right;\">\n",
       "      <th></th>\n",
       "      <th>GENBANK_REFERENCE</th>\n",
       "      <th>CATALOGUE_NAME</th>\n",
       "      <th>CATALOGUE_VERSION</th>\n",
       "      <th>CATALOGUE_GRAMMAR</th>\n",
       "      <th>PREDICTION_VALUES</th>\n",
       "      <th>DRUG</th>\n",
       "      <th>MUTATION</th>\n",
       "      <th>PREDICTION</th>\n",
       "      <th>SOURCE</th>\n",
       "      <th>EVIDENCE</th>\n",
       "      <th>OTHER</th>\n",
       "    </tr>\n",
       "  </thead>\n",
       "  <tbody>\n",
       "    <tr>\n",
       "      <th>324</th>\n",
       "      <td>NC_000962.3</td>\n",
       "      <td>RIF-2024.07</td>\n",
       "      <td>1.1</td>\n",
       "      <td>GARC1</td>\n",
       "      <td>RUS</td>\n",
       "      <td>RIF</td>\n",
       "      <td>L731P</td>\n",
       "      <td>R</td>\n",
       "      <td>{}</td>\n",
       "      <td>[{\"proportion\": 1.0, \"confidence\": [0.34238022...</td>\n",
       "      <td>{}</td>\n",
       "    </tr>\n",
       "  </tbody>\n",
       "</table>\n",
       "</div>"
      ],
      "text/plain": [
       "    GENBANK_REFERENCE CATALOGUE_NAME CATALOGUE_VERSION CATALOGUE_GRAMMAR  \\\n",
       "324       NC_000962.3    RIF-2024.07               1.1             GARC1   \n",
       "\n",
       "    PREDICTION_VALUES DRUG MUTATION PREDICTION SOURCE  \\\n",
       "324               RUS  RIF    L731P          R     {}   \n",
       "\n",
       "                                              EVIDENCE OTHER  \n",
       "324  [{\"proportion\": 1.0, \"confidence\": [0.34238022...    {}  "
      ]
     },
     "execution_count": 233,
     "metadata": {},
     "output_type": "execute_result"
    }
   ],
   "source": [
    "catalogue[catalogue.MUTATION=='L731P']"
   ]
  },
  {
   "cell_type": "code",
   "execution_count": 234,
   "metadata": {},
   "outputs": [],
   "source": [
    "### H1"
   ]
  },
  {
   "cell_type": "markdown",
   "metadata": {},
   "source": [
    "# What have we missed?"
   ]
  },
  {
   "cell_type": "markdown",
   "metadata": {},
   "source": [
    "We should determine what samples and variants our method has not been able to capture - these could potentially be used to construct an independent validation set."
   ]
  },
  {
   "cell_type": "markdown",
   "metadata": {},
   "source": [
    "### Which mutations were not captured?\n"
   ]
  },
  {
   "cell_type": "code",
   "execution_count": 235,
   "metadata": {},
   "outputs": [
    {
     "name": "stdout",
     "output_type": "stream",
     "text": [
      "number of uncatalogued missense mutations 611\n"
     ]
    }
   ],
   "source": [
    "all_matched = all_matched.dropna(subset=['MUTATION'])\n",
    "print ('number of uncatalogued missense mutations', all_matched[(~all_matched.MUTATION.isin(df.mutation))&(~all_matched.MUTATION.str.contains(r'_|\\!|\\*|\\-'))&(all_matched.AMINO_ACID_NUMBER>=22)&(all_matched.AMINO_ACID_NUMBER<=1147)].MUTATION.nunique())"
   ]
  },
  {
   "cell_type": "markdown",
   "metadata": {},
   "source": [
    "### Which suitable samples were not captured?"
   ]
  },
  {
   "cell_type": "code",
   "execution_count": 236,
   "metadata": {},
   "outputs": [],
   "source": [
    "all_matched = all_matched.dropna(subset=['MUTATION'])\n",
    "\n",
    "# Filter out mutations that are in df where phenotype == 1, contain unwanted characters, and meet amino acid number criteria\n",
    "filtered_mutations = all_matched[(~all_matched.MUTATION.isin(df[df.phenotype == 1].mutation)) & \n",
    "                                 (~all_matched.MUTATION.str.contains(r'_|\\!|\\*|\\-')) & \n",
    "                                 (all_matched.AMINO_ACID_NUMBER >= 22) & \n",
    "                                 (all_matched.AMINO_ACID_NUMBER <= 1147)]\n",
    "\n",
    "# Group by UNIQUEID and filter groups to ensure at least one mutation is not in df\n",
    "def filter_samples(group):\n",
    "    if len(group) > 1:\n",
    "        return group[~group.MUTATION.isin(df[df.phenotype == 1].mutation)].shape[0] > 0\n",
    "    return False\n",
    "\n",
    "valid_samples = filtered_mutations.groupby('UNIQUEID').filter(filter_samples)\n",
    "\n",
    "# Get the number of unique samples that meet the criteria\n",
    "num_unique_samples = valid_samples['UNIQUEID'].nunique()"
   ]
  },
  {
   "cell_type": "code",
   "execution_count": 237,
   "metadata": {},
   "outputs": [
    {
     "data": {
      "text/plain": [
       "PHENOTYPE\n",
       "R    101\n",
       "S     63\n",
       "Name: count, dtype: int64"
      ]
     },
     "execution_count": 237,
     "metadata": {},
     "output_type": "execute_result"
    }
   ],
   "source": [
    "valid_samples.drop_duplicates('UNIQUEID', keep='first').PHENOTYPE.value_counts()"
   ]
  },
  {
   "cell_type": "markdown",
   "metadata": {},
   "source": [
    "After filtering out samples that contain lof mutations + mutations not in the pdb region + already catalogue R in the catalogue, we are leve with 164 samples.... can we use these for validation? Should try out."
   ]
  },
  {
   "cell_type": "code",
   "execution_count": null,
   "metadata": {},
   "outputs": [],
   "source": []
  }
 ],
 "metadata": {
  "kernelspec": {
   "display_name": "rif_manuscript",
   "language": "python",
   "name": "python3"
  },
  "language_info": {
   "codemirror_mode": {
    "name": "ipython",
    "version": 3
   },
   "file_extension": ".py",
   "mimetype": "text/x-python",
   "name": "python",
   "nbconvert_exporter": "python",
   "pygments_lexer": "ipython3",
   "version": "3.12.2"
  }
 },
 "nbformat": 4,
 "nbformat_minor": 2
}
